{
 "cells": [
  {
   "cell_type": "code",
   "execution_count": 3,
   "metadata": {},
   "outputs": [],
   "source": [
    "import numpy as np"
   ]
  },
  {
   "cell_type": "code",
   "execution_count": null,
   "metadata": {},
   "outputs": [],
   "source": []
  },
  {
   "cell_type": "markdown",
   "metadata": {},
   "source": [
    "# 布尔索引"
   ]
  },
  {
   "cell_type": "code",
   "execution_count": 2,
   "metadata": {},
   "outputs": [
    {
     "name": "stdout",
     "output_type": "stream",
     "text": [
      "(4, 3)\n"
     ]
    },
    {
     "data": {
      "text/plain": [
       "array([[ 0.13956212,  0.32199118,  0.8481522 ],\n",
       "       [ 0.53716532,  0.40495091,  0.14117018],\n",
       "       [ 0.84881948,  0.97534103,  0.41099856],\n",
       "       [ 0.12178469,  0.52298878,  0.40934973]])"
      ]
     },
     "execution_count": 2,
     "metadata": {},
     "output_type": "execute_result"
    }
   ],
   "source": [
    "arr = np.random.random((4,3))\n",
    "print(arr.shape)\n",
    "arr"
   ]
  },
  {
   "cell_type": "code",
   "execution_count": 3,
   "metadata": {},
   "outputs": [
    {
     "name": "stdout",
     "output_type": "stream",
     "text": [
      "(4, 3)\n"
     ]
    },
    {
     "data": {
      "text/plain": [
       "array([[ True,  True, False],\n",
       "       [False,  True,  True],\n",
       "       [False, False,  True],\n",
       "       [ True, False,  True]], dtype=bool)"
      ]
     },
     "execution_count": 3,
     "metadata": {},
     "output_type": "execute_result"
    }
   ],
   "source": [
    "arr2 = arr < 0.5\n",
    "print(arr2.shape)\n",
    "arr2"
   ]
  },
  {
   "cell_type": "code",
   "execution_count": 4,
   "metadata": {},
   "outputs": [
    {
     "data": {
      "text/plain": [
       "array([ 0.13956212,  0.32199118,  0.40495091,  0.14117018,  0.41099856,\n",
       "        0.12178469,  0.40934973])"
      ]
     },
     "execution_count": 4,
     "metadata": {},
     "output_type": "execute_result"
    }
   ],
   "source": [
    "arr3 = arr[arr2]  #取出True的元素\n",
    "arr3"
   ]
  },
  {
   "cell_type": "code",
   "execution_count": 5,
   "metadata": {
    "collapsed": true
   },
   "outputs": [],
   "source": [
    "names = np.array(['joe','susan','tom'])\n",
    "scores = np.array([\n",
    "    [98,86,88,90],\n",
    "    [70,86,90,99],\n",
    "    [82,88,89,86]\n",
    "])\n",
    "classic = np.array(['语文','数学','英语','科学'])"
   ]
  },
  {
   "cell_type": "code",
   "execution_count": 41,
   "metadata": {},
   "outputs": [
    {
     "data": {
      "text/plain": [
       "array(['joe'],\n",
       "      dtype='<U5')"
      ]
     },
     "execution_count": 41,
     "metadata": {},
     "output_type": "execute_result"
    }
   ],
   "source": [
    "names[names=='joe']"
   ]
  },
  {
   "cell_type": "code",
   "execution_count": 43,
   "metadata": {},
   "outputs": [
    {
     "data": {
      "text/plain": [
       "array([ True, False, False], dtype=bool)"
      ]
     },
     "execution_count": 43,
     "metadata": {},
     "output_type": "execute_result"
    }
   ],
   "source": [
    "name2 = names=='joe'\n",
    "name2"
   ]
  },
  {
   "cell_type": "code",
   "execution_count": 6,
   "metadata": {},
   "outputs": [
    {
     "name": "stdout",
     "output_type": "stream",
     "text": [
      "joe的成绩是: [98 86 88 90]\n"
     ]
    }
   ],
   "source": [
    "print('joe的成绩是:',scores[names =='joe'].reshape(-1))"
   ]
  },
  {
   "cell_type": "code",
   "execution_count": 7,
   "metadata": {},
   "outputs": [
    {
     "name": "stdout",
     "output_type": "stream",
     "text": [
      "joe的数学成绩是： [86]\n"
     ]
    }
   ],
   "source": [
    "print('joe的数学成绩是：',scores[names=='joe',classic=='数学'])\n",
    "# print('joe的数学成绩是：',scores[names=='joe'].reshape(-1)[classic=='数学'])"
   ]
  },
  {
   "cell_type": "code",
   "execution_count": 8,
   "metadata": {},
   "outputs": [
    {
     "name": "stdout",
     "output_type": "stream",
     "text": [
      "joe和susan的成绩是：\n",
      "[[98 86 88 90]\n",
      " [70 86 90 99]]\n"
     ]
    }
   ],
   "source": [
    "print('joe和susan的成绩是：')\n",
    "print(scores[(names=='joe')|(names=='susan')])"
   ]
  },
  {
   "cell_type": "code",
   "execution_count": 9,
   "metadata": {},
   "outputs": [
    {
     "name": "stdout",
     "output_type": "stream",
     "text": [
      "非joe和susan的成绩是：\n",
      "[[82 88 89 86]]\n"
     ]
    }
   ],
   "source": [
    "print('非joe和susan的成绩是：')\n",
    "print(scores[(names!='joe')&(names!='susan')])"
   ]
  },
  {
   "cell_type": "markdown",
   "metadata": {},
   "source": [
    "# 数组转置与轴对换"
   ]
  },
  {
   "cell_type": "code",
   "execution_count": 10,
   "metadata": {},
   "outputs": [
    {
     "name": "stdout",
     "output_type": "stream",
     "text": [
      "(4, 5)\n"
     ]
    },
    {
     "data": {
      "text/plain": [
       "array([[1, 2, 7, 8, 4],\n",
       "       [8, 9, 6, 4, 9],\n",
       "       [5, 7, 5, 7, 7],\n",
       "       [1, 3, 9, 8, 7]])"
      ]
     },
     "execution_count": 10,
     "metadata": {},
     "output_type": "execute_result"
    }
   ],
   "source": [
    "arr = np.random.randint(1,10,size = (4,5))\n",
    "print(arr.shape)\n",
    "arr"
   ]
  },
  {
   "cell_type": "code",
   "execution_count": 11,
   "metadata": {},
   "outputs": [
    {
     "name": "stdout",
     "output_type": "stream",
     "text": [
      "(5, 4)\n"
     ]
    },
    {
     "data": {
      "text/plain": [
       "array([[1, 8, 5, 1],\n",
       "       [2, 9, 7, 3],\n",
       "       [7, 6, 5, 9],\n",
       "       [8, 4, 7, 8],\n",
       "       [4, 9, 7, 7]])"
      ]
     },
     "execution_count": 11,
     "metadata": {},
     "output_type": "execute_result"
    }
   ],
   "source": [
    "arr1 = arr.transpose()\n",
    "print(arr1.shape)\n",
    "arr1"
   ]
  },
  {
   "cell_type": "code",
   "execution_count": 12,
   "metadata": {},
   "outputs": [
    {
     "name": "stdout",
     "output_type": "stream",
     "text": [
      "(5, 4)\n"
     ]
    },
    {
     "data": {
      "text/plain": [
       "array([[1, 8, 5, 1],\n",
       "       [2, 9, 7, 3],\n",
       "       [7, 6, 5, 9],\n",
       "       [8, 4, 7, 8],\n",
       "       [4, 9, 7, 7]])"
      ]
     },
     "execution_count": 12,
     "metadata": {},
     "output_type": "execute_result"
    }
   ],
   "source": [
    "arr2 = arr.T\n",
    "print(arr2.shape)\n",
    "arr2"
   ]
  },
  {
   "cell_type": "markdown",
   "metadata": {},
   "source": [
    "# 常用函数一元一次"
   ]
  },
  {
   "cell_type": "code",
   "execution_count": 13,
   "metadata": {},
   "outputs": [
    {
     "data": {
      "text/plain": [
       "array([[-0.03252912, -0.34481256,  1.80681349],\n",
       "       [ 1.3388692 ,  0.33031531,  0.8276405 ],\n",
       "       [ 0.81296015,  1.57948341, -0.82288868],\n",
       "       [-1.17142832, -0.14608915,  0.01120884]])"
      ]
     },
     "execution_count": 13,
     "metadata": {},
     "output_type": "execute_result"
    }
   ],
   "source": [
    "arr = np.random.randn(12).reshape(4,3)\n",
    "arr"
   ]
  },
  {
   "cell_type": "code",
   "execution_count": 14,
   "metadata": {},
   "outputs": [
    {
     "name": "stdout",
     "output_type": "stream",
     "text": [
      "[[ 0.03252912  0.34481256  1.80681349]\n",
      " [ 1.3388692   0.33031531  0.8276405 ]\n",
      " [ 0.81296015  1.57948341  0.82288868]\n",
      " [ 1.17142832  0.14608915  0.01120884]]\n"
     ]
    }
   ],
   "source": [
    "#abs,fabs绝对值函数\n",
    "# print(np.abs(arr))\n",
    "print(np.fabs(arr))"
   ]
  },
  {
   "cell_type": "code",
   "execution_count": 15,
   "metadata": {},
   "outputs": [
    {
     "name": "stdout",
     "output_type": "stream",
     "text": [
      "[[ 1.41421356  2.23606798  3.        ]\n",
      " [ 1.73205081  2.44948974  1.73205081]\n",
      " [ 1.41421356  1.          2.64575131]]\n"
     ]
    },
    {
     "data": {
      "text/plain": [
       "array([[2, 5, 9],\n",
       "       [3, 6, 3],\n",
       "       [2, 1, 7]])"
      ]
     },
     "execution_count": 15,
     "metadata": {},
     "output_type": "execute_result"
    }
   ],
   "source": [
    "#sqrt 计算平方根\n",
    "arr = np.random.randint(1,10,size=(3,3))\n",
    "print(np.sqrt(arr))\n",
    "arr"
   ]
  },
  {
   "cell_type": "code",
   "execution_count": 16,
   "metadata": {},
   "outputs": [
    {
     "name": "stdout",
     "output_type": "stream",
     "text": [
      "[[36  9  1]\n",
      " [ 1  9 16]\n",
      " [25 16 16]]\n"
     ]
    }
   ],
   "source": [
    "#square计算各个元素的平方\n",
    "arr = np.random.randint(1,10,size = (3,3))\n",
    "arr\n",
    "print(np.square(arr))"
   ]
  },
  {
   "cell_type": "code",
   "execution_count": 17,
   "metadata": {},
   "outputs": [
    {
     "name": "stdout",
     "output_type": "stream",
     "text": [
      "[[1 3 2]\n",
      " [5 3 4]]\n",
      "[[   2.71828183   20.08553692    7.3890561 ]\n",
      " [ 148.4131591    20.08553692   54.59815003]]\n"
     ]
    }
   ],
   "source": [
    "# exp()计算各个元素的指数e的x次方\n",
    "# 自然底数e： e ≈ 2.71828 。。。\n",
    "num = np.random.randint(1,7,size = (2,3))\n",
    "print(num)\n",
    "print(np.exp(num))"
   ]
  },
  {
   "cell_type": "code",
   "execution_count": 18,
   "metadata": {},
   "outputs": [
    {
     "name": "stdout",
     "output_type": "stream",
     "text": [
      "[[9, 5, 1], [3, 5, 1]]\n",
      "[[ 2.19722458  1.60943791  0.        ]\n",
      " [ 1.09861229  1.60943791  0.        ]]\n",
      "[[ 0.95424251  0.69897     0.        ]\n",
      " [ 0.47712125  0.69897     0.        ]]\n",
      "[[ 2.30258509  1.79175947  0.69314718]\n",
      " [ 1.38629436  1.79175947  0.69314718]]\n"
     ]
    }
   ],
   "source": [
    "#log()分别计算自然对数、底数为10的log、底数为2的log以及log(1+x)；要求arr中的每个元素必须为正数\n",
    "num = [\n",
    "    [9,5,1],\n",
    "    [3,5,1]\n",
    "]\n",
    "print(num)\n",
    "print(np.log(num))\n",
    "print(np.log10(num))\n",
    "print(np.log1p(num))"
   ]
  },
  {
   "cell_type": "code",
   "execution_count": 19,
   "metadata": {},
   "outputs": [
    {
     "name": "stdout",
     "output_type": "stream",
     "text": [
      "[[-0.54663104 -0.32175795  0.39067704]\n",
      " [ 0.82644656 -0.55157679 -0.41458785]\n",
      " [ 1.57226836 -0.78192266 -0.71223778]]\n",
      "[[-1. -1.  1.]\n",
      " [ 1. -1. -1.]\n",
      " [ 1. -1. -1.]]\n"
     ]
    }
   ],
   "source": [
    "#sign()计算各个元素的正负号: 1 正数，0：零，-1：负数\n",
    "num = np.random.randn(1,9).reshape(3,3)\n",
    "print(num)\n",
    "print(np.sign(num))"
   ]
  },
  {
   "cell_type": "code",
   "execution_count": 20,
   "metadata": {},
   "outputs": [
    {
     "name": "stdout",
     "output_type": "stream",
     "text": [
      "[ -1.   2.  -0.   1.  10.]\n",
      "[-1.  1.  0.  1.  1.]\n"
     ]
    }
   ],
   "source": [
    "#ceil向上取整\n",
    "arr = np.array([-1.7,  1.5,  -0.1,  0.6,  10])\n",
    "arr = np.ceil(arr)\n",
    "print(np.ceil(arr))\n",
    "print(np.sign(arr))"
   ]
  },
  {
   "cell_type": "code",
   "execution_count": 21,
   "metadata": {},
   "outputs": [
    {
     "name": "stdout",
     "output_type": "stream",
     "text": [
      "[ -2.   1.  -1.   0.  10.]\n",
      "[-1.  1. -1.  0.  1.]\n"
     ]
    }
   ],
   "source": [
    "#floor向下取整\n",
    "arr = np.array([-1.7,  1.5,  -0.1,  0.6,  10])\n",
    "arr = np.floor(arr)\n",
    "print(np.floor(arr))\n",
    "print(np.sign(arr))"
   ]
  },
  {
   "cell_type": "code",
   "execution_count": 22,
   "metadata": {},
   "outputs": [
    {
     "name": "stdout",
     "output_type": "stream",
     "text": [
      "[ -2.   2.  -0.   1.  10.]\n"
     ]
    }
   ],
   "source": [
    "arr = np.array([-1.78,  1.5,  -0.1,  0.6,  10])\n",
    "print(np.rint(arr))\n",
    "\n",
    "#  numpy.around(a,decimals)\n",
    "#  a:输入的数组\n",
    "#  decimals:要舍入的小数位，默认值位0，负数讲四舍五入到小数点左侧位置\n",
    "# print(np.around(arr))\n",
    "# print(np.around(arr,1))\n",
    "# print(np.around(arr,-1))"
   ]
  },
  {
   "cell_type": "code",
   "execution_count": 23,
   "metadata": {},
   "outputs": [
    {
     "name": "stdout",
     "output_type": "stream",
     "text": [
      "[[ 0.43469598  0.37817619  0.34673671]\n",
      " [ 0.40876217  0.03232201  0.35177667]]\n",
      "(array([[ 0.43469598,  0.37817619,  0.34673671],\n",
      "       [ 0.40876217,  0.03232201,  0.35177667]]), array([[ 0.,  0.,  0.],\n",
      "       [ 0.,  0.,  0.]]))\n"
     ]
    }
   ],
   "source": [
    "#modf()将数组中元素的小数位和整数位以两部分独立数组的形式返回\n",
    "arr = np.random.random(6).reshape(2,3)\n",
    "print(arr)\n",
    "print(np.modf(arr))"
   ]
  },
  {
   "cell_type": "code",
   "execution_count": 24,
   "metadata": {},
   "outputs": [
    {
     "name": "stdout",
     "output_type": "stream",
     "text": [
      "[[ 0.5983094   0.04789659  0.77026695]\n",
      " [ 0.07016323  0.32383965  0.33600711]]\n",
      "[[False False False]\n",
      " [False False False]]\n"
     ]
    }
   ],
   "source": [
    "#isnan()返回一个表示“那些值是NaN(不是一个数字)”的布尔类型数组\n",
    "arr = np.random.random(6).reshape(2,3)\n",
    "print(arr)\n",
    "print(np.isnan(arr))"
   ]
  },
  {
   "cell_type": "code",
   "execution_count": 25,
   "metadata": {},
   "outputs": [
    {
     "name": "stdout",
     "output_type": "stream",
     "text": [
      "[[ 0.83941095  0.04836189  0.52712199]\n",
      " [ 0.36606486  0.4659995   0.14629659]]\n",
      "[[ True  True  True]\n",
      " [ True  True  True]]\n",
      "[[False False False]\n",
      " [False False False]]\n"
     ]
    }
   ],
   "source": [
    "#分别一个表示”那些元素是有穷的(非inf、非NaN)”或者“那些元素是无穷的”的布尔型数组\n",
    "num = np.random.random(6).reshape(2,3)\n",
    "print(num)\n",
    "print(np.isfinite(num))\n",
    "print(np.isinf(num))"
   ]
  },
  {
   "cell_type": "code",
   "execution_count": 26,
   "metadata": {},
   "outputs": [
    {
     "name": "stdout",
     "output_type": "stream",
     "text": [
      "[ 0.          0.5         0.70710678  0.8660254   1.        ]\n",
      "[ 0.          0.52359878  0.78539816  1.04719755  1.57079633]\n",
      "[  1.00000000e+00   8.66025404e-01   7.07106781e-01   5.00000000e-01\n",
      "   6.12323400e-17]\n",
      "[ 0.          0.52359878  0.78539816  1.04719755  1.57079633]\n",
      "[  0.00000000e+00   5.77350269e-01   1.00000000e+00   1.73205081e+00\n",
      "   1.63312394e+16]\n",
      "[ 0.          0.52359878  0.78539816  1.04719755  1.57079633]\n",
      "[  0.  30.  45.  60.  90.]\n"
     ]
    }
   ],
   "source": [
    "#三角函数\n",
    "a = np.array([0,30,45,60,90])\n",
    "print(np.sin(a*np.pi/180))\n",
    "print(np.arcsin(np.sin(a*np.pi/180)))\n",
    "print(np.cos(a*np.pi/180))\n",
    "print(np.arccos(np.cos(a*np.pi/180)))\n",
    "print(np.tan(a*np.pi/180))\n",
    "print(np.arctan(np.tan(a*np.pi/180)))\n",
    "print(np.degrees(np.arctan(np.tan(a*np.pi/180))))"
   ]
  },
  {
   "cell_type": "markdown",
   "metadata": {},
   "source": [
    "# 常用二元函数"
   ]
  },
  {
   "cell_type": "code",
   "execution_count": 27,
   "metadata": {},
   "outputs": [
    {
     "name": "stdout",
     "output_type": "stream",
     "text": [
      "[[10 12 13]\n",
      " [11 14 11]\n",
      " [13 11 12]]\n",
      "[[2 4 3]\n",
      " [1 3 2]\n",
      " [4 2 1]]\n",
      "[[0 0 1]\n",
      " [0 2 1]\n",
      " [1 1 0]]\n"
     ]
    }
   ],
   "source": [
    "#mod()元素级的取模\n",
    "arr1 = np.random.randint(10,15,size = (3,3))\n",
    "arr2 = np.random.randint(1,5,size = (3,3))\n",
    "print(arr1)\n",
    "print(arr2)\n",
    "print(np.mod(arr1,arr2))"
   ]
  },
  {
   "cell_type": "code",
   "execution_count": 28,
   "metadata": {},
   "outputs": [
    {
     "name": "stdout",
     "output_type": "stream",
     "text": [
      "[[1 4 2]\n",
      " [4 3 2]\n",
      " [3 3 2]]\n",
      "[[3 1 1]\n",
      " [1 1 3]\n",
      " [1 1 3]]\n",
      "[[ 9  7 19]\n",
      " [17  9 19]\n",
      " [14  8 18]]\n"
     ]
    }
   ],
   "source": [
    "arr1 = np.random.randint(1,5,size = (3,3))\n",
    "arr2 = np.random.randint(1,5,size = (3,3))\n",
    "print(arr1)\n",
    "print(arr2)\n",
    "print(np.dot(arr1,arr2))"
   ]
  },
  {
   "cell_type": "code",
   "execution_count": 29,
   "metadata": {},
   "outputs": [
    {
     "name": "stdout",
     "output_type": "stream",
     "text": [
      "[[3 6 2]\n",
      " [2 5 3]]\n",
      "[[2 1 1]\n",
      " [5 3 3]]\n",
      "[[ True  True  True]\n",
      " [False  True False]]\n"
     ]
    }
   ],
   "source": [
    "# greater() 大于\n",
    "# less()    小于\n",
    "# equal()   等于\n",
    "# 执行元素级别的比较运算，最终返回一个布尔型数组\n",
    "num1 = np.random.randint(1,7,size = (2,3))\n",
    "num2 = np.random.randint(1,7,size = (2,3))\n",
    "print(num1)\n",
    "print(num2)\n",
    "print(np.greater(num1,num2))"
   ]
  },
  {
   "cell_type": "code",
   "execution_count": 30,
   "metadata": {},
   "outputs": [
    {
     "name": "stdout",
     "output_type": "stream",
     "text": [
      "[[1 6 4]\n",
      " [5 5 4]]\n",
      "[[1 0 0]\n",
      " [1 0 1]]\n",
      "[[ True False False]\n",
      " [ True False  True]]\n",
      "[[ True  True  True]\n",
      " [ True  True  True]]\n",
      "[[False  True  True]\n",
      " [False  True False]]\n"
     ]
    }
   ],
   "source": [
    "# logical_and() \n",
    "#    logical_or()    \n",
    "#    logical_xor()   \n",
    "#    执行元素级别的布尔逻辑运算，相当于中缀运算符&、|、^\n",
    "num1 = np.random.randint(1,7,size = (2,3))\n",
    "num2 = np.array([[1,0,0],[1,0,1]])\n",
    "print(num1)\n",
    "print(num2)\n",
    "print(np.logical_and(num1,num2))\n",
    "print(np.logical_or(num1,num2))\n",
    "print(np.logical_xor(num1,num2))"
   ]
  },
  {
   "cell_type": "code",
   "execution_count": 31,
   "metadata": {},
   "outputs": [
    {
     "name": "stdout",
     "output_type": "stream",
     "text": [
      "[[4 4 4]\n",
      " [6 3 6]]\n",
      "[[16 16 16]\n",
      " [36  9 36]]\n"
     ]
    }
   ],
   "source": [
    "#power()对数组中的每个元素进行给定次数的指数值，类似于: arr ** 3\n",
    "nums = np.random.randint(1,7,size = (2,3))\n",
    "print(nums)\n",
    "print(np.power(nums,2))"
   ]
  },
  {
   "cell_type": "markdown",
   "metadata": {},
   "source": [
    "# 聚合函数"
   ]
  },
  {
   "cell_type": "code",
   "execution_count": 32,
   "metadata": {},
   "outputs": [
    {
     "name": "stdout",
     "output_type": "stream",
     "text": [
      "[[5 2 3 4]\n",
      " [7 3 9 1]]\n",
      "min: [5 2 3 1]\n",
      "max: 9\n",
      "min: [ 6.   2.5  6.   2.5]\n",
      "min: [ 6.   2.5  6.   2.5]\n"
     ]
    }
   ],
   "source": [
    "a = np.array([[5,2,3,4],[7,3,9,1]])\n",
    "print(a)\n",
    "print('min:',np.amin(a,0))\n",
    "print('max:',np.amax(a))\n",
    "print('min:',np.mean(a,0))\n",
    "print('min:',a.mean(0))"
   ]
  },
  {
   "cell_type": "code",
   "execution_count": 33,
   "metadata": {},
   "outputs": [
    {
     "name": "stdout",
     "output_type": "stream",
     "text": [
      "6.1875\n"
     ]
    }
   ],
   "source": [
    "#方差，偏差的平方的平均值\n",
    "a = np.array([[5,2,3,4],[7,3,9,1]])\n",
    "print(np.mean((a-a.mean())**2))"
   ]
  },
  {
   "cell_type": "code",
   "execution_count": 34,
   "metadata": {},
   "outputs": [
    {
     "name": "stdout",
     "output_type": "stream",
     "text": [
      "2.48746859277\n",
      "2.48746859277\n"
     ]
    }
   ],
   "source": [
    "#标准差 偏差的平方的平均值的平方根\n",
    "a = np.array([[5,2,3,4],[7,3,9,1]])\n",
    "print(np.sqrt(np.mean((a-a.mean())**2)))\n",
    "print(np.std(a))"
   ]
  },
  {
   "cell_type": "code",
   "execution_count": 4,
   "metadata": {},
   "outputs": [
    {
     "name": "stdout",
     "output_type": "stream",
     "text": [
      "[[1 8]\n",
      " [3 6]]\n",
      "Help on built-in function where in module numpy.core.multiarray:\n",
      "\n",
      "where(...)\n",
      "    where(condition, [x, y])\n",
      "    \n",
      "    Return elements, either from `x` or `y`, depending on `condition`.\n",
      "    \n",
      "    If only `condition` is given, return ``condition.nonzero()``.\n",
      "    \n",
      "    Parameters\n",
      "    ----------\n",
      "    condition : array_like, bool\n",
      "        When True, yield `x`, otherwise yield `y`.\n",
      "    x, y : array_like, optional\n",
      "        Values from which to choose. `x`, `y` and `condition` need to be\n",
      "        broadcastable to some shape.\n",
      "    \n",
      "    Returns\n",
      "    -------\n",
      "    out : ndarray or tuple of ndarrays\n",
      "        If both `x` and `y` are specified, the output array contains\n",
      "        elements of `x` where `condition` is True, and elements from\n",
      "        `y` elsewhere.\n",
      "    \n",
      "        If only `condition` is given, return the tuple\n",
      "        ``condition.nonzero()``, the indices where `condition` is True.\n",
      "    \n",
      "    See Also\n",
      "    --------\n",
      "    nonzero, choose\n",
      "    \n",
      "    Notes\n",
      "    -----\n",
      "    If `x` and `y` are given and input arrays are 1-D, `where` is\n",
      "    equivalent to::\n",
      "    \n",
      "        [xv if c else yv for (c,xv,yv) in zip(condition,x,y)]\n",
      "    \n",
      "    Examples\n",
      "    --------\n",
      "    >>> np.where([[True, False], [True, True]],\n",
      "    ...          [[1, 2], [3, 4]],\n",
      "    ...          [[9, 8], [7, 6]])\n",
      "    array([[1, 8],\n",
      "           [3, 4]])\n",
      "    \n",
      "    >>> np.where([[0, 1], [1, 0]])\n",
      "    (array([0, 1]), array([1, 0]))\n",
      "    \n",
      "    >>> x = np.arange(9.).reshape(3, 3)\n",
      "    >>> np.where( x > 5 )\n",
      "    (array([2, 2, 2]), array([0, 1, 2]))\n",
      "    >>> x[np.where( x > 3.0 )]               # Note: result is 1D.\n",
      "    array([ 4.,  5.,  6.,  7.,  8.])\n",
      "    >>> np.where(x < 5, x, -1)               # Note: broadcasting.\n",
      "    array([[ 0.,  1.,  2.],\n",
      "           [ 3.,  4., -1.],\n",
      "           [-1., -1., -1.]])\n",
      "    \n",
      "    Find the indices of elements of `x` that are in `goodvalues`.\n",
      "    \n",
      "    >>> goodvalues = [3, 4, 7]\n",
      "    >>> ix = np.isin(x, goodvalues)\n",
      "    >>> ix\n",
      "    array([[False, False, False],\n",
      "           [ True,  True, False],\n",
      "           [False,  True, False]])\n",
      "    >>> np.where(ix)\n",
      "    (array([1, 1, 2]), array([0, 1, 1]))\n",
      "\n",
      "None\n"
     ]
    }
   ],
   "source": [
    "#numpy.where 是三元表达式 x if condition else y 的矢量化版本\n",
    "a = np.where([[True, False], [True, False]],[[1, 2], [3, 4]],[[9, 8], [7, 6]])\n",
    "print(a)\n",
    "print(help(np.where))"
   ]
  },
  {
   "cell_type": "code",
   "execution_count": null,
   "metadata": {},
   "outputs": [],
   "source": []
  },
  {
   "cell_type": "code",
   "execution_count": 36,
   "metadata": {},
   "outputs": [
    {
     "name": "stdout",
     "output_type": "stream",
     "text": [
      "[5 4 5 7 7 6]\n",
      "[8 7 1 6 1 2]\n",
      "[8, 7, 5, 7, 7, 6]\n",
      "<class 'list'>\n",
      "[8 7 5 7 7 6]\n",
      "<class 'numpy.ndarray'>\n"
     ]
    }
   ],
   "source": [
    "arr1 = np.random.randint(1,9,size = 6)\n",
    "arr2 = np.random.randint(1,9,size = 6)\n",
    "print(arr1)\n",
    "print(arr2)\n",
    "condition = arr1 > arr2\n",
    "arr3 = [xv if c else yv for (c,xv,yv) in zip(condition,arr1,arr2)]\n",
    "print(arr3)\n",
    "print(type(arr3))\n",
    "arr4 = np.where(condition,arr1,arr2)\n",
    "print(arr4)\n",
    "print(type(arr4))"
   ]
  },
  {
   "cell_type": "code",
   "execution_count": 37,
   "metadata": {},
   "outputs": [
    {
     "name": "stdout",
     "output_type": "stream",
     "text": [
      "[[ 1.          2.                 nan  4.        ]\n",
      " [ 4.          5.          6.                 nan]\n",
      " [        inf  7.          8.          9.        ]\n",
      " [        inf  2.71828183  3.14159265  4.        ]]\n",
      "[[ 1.          2.          0.          4.        ]\n",
      " [ 4.          5.          6.          0.        ]\n",
      " [ 0.          7.          8.          9.        ]\n",
      " [ 0.          2.71828183  3.14159265  4.        ]]\n"
     ]
    }
   ],
   "source": [
    "#案例：将数组中的所有异常数字替换为0，比如将NaN替换为0\n",
    "arr = np.array([\n",
    "    [1,2,np.NaN,4],\n",
    "    [4,5,6,np.NaN],\n",
    "    [np.inf,7,8,9],\n",
    "    [np.inf,np.e,np.pi,4]\n",
    "])\n",
    "print(arr)\n",
    "condition = np.isnan(arr)|np.isinf(arr)\n",
    "print(np.where(condition,0,arr))"
   ]
  },
  {
   "cell_type": "code",
   "execution_count": 38,
   "metadata": {},
   "outputs": [
    {
     "name": "stdout",
     "output_type": "stream",
     "text": [
      "['图书' '数码' '小吃' '数码' '男装' '小吃' '美食' '数码' '女装']\n"
     ]
    },
    {
     "data": {
      "text/plain": [
       "array(['图书', '女装', '小吃', '数码', '男装', '美食'],\n",
       "      dtype='<U2')"
      ]
     },
     "execution_count": 38,
     "metadata": {},
     "output_type": "execute_result"
    }
   ],
   "source": [
    "#np.uunique函数主要的作用是将数组中的元素进行去重操作（也就是只保存不重复的数据）\n",
    "arr = np.array(['图书','数码','小吃','数码','男装','小吃','美食','数码','女装'])\n",
    "print(arr)\n",
    "arr2 = np.unique(arr)\n",
    "arr2"
   ]
  },
  {
   "cell_type": "code",
   "execution_count": null,
   "metadata": {
    "collapsed": true
   },
   "outputs": [],
   "source": []
  }
 ],
 "metadata": {
  "kernelspec": {
   "display_name": "Python 3",
   "language": "python",
   "name": "python3"
  },
  "language_info": {
   "codemirror_mode": {
    "name": "ipython",
    "version": 3
   },
   "file_extension": ".py",
   "mimetype": "text/x-python",
   "name": "python",
   "nbconvert_exporter": "python",
   "pygments_lexer": "ipython3",
   "version": "3.7.1"
  }
 },
 "nbformat": 4,
 "nbformat_minor": 2
}
