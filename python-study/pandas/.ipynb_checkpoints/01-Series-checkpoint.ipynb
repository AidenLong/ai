{
 "cells": [
  {
   "cell_type": "markdown",
   "metadata": {},
   "source": [
    "# Series\n",
    "系列是能够保存任何类型的数据的一维标记数组。轴标签统称为索引"
   ]
  },
  {
   "cell_type": "code",
   "execution_count": 1,
   "metadata": {
    "collapsed": true
   },
   "outputs": [],
   "source": [
    "#引入模块\n",
    "import numpy as np\n",
    "import pandas as pd"
   ]
  },
  {
   "cell_type": "code",
   "execution_count": 4,
   "metadata": {},
   "outputs": [
    {
     "data": {
      "text/plain": [
       "Series([], dtype: float64)"
      ]
     },
     "execution_count": 4,
     "metadata": {},
     "output_type": "execute_result"
    }
   ],
   "source": [
    "#创建一个空的Series\n",
    "ser01 = pd.Series()\n",
    "ser01"
   ]
  },
  {
   "cell_type": "markdown",
   "metadata": {},
   "source": [
    "通过ndarray创建一个系列"
   ]
  },
  {
   "cell_type": "code",
   "execution_count": 9,
   "metadata": {},
   "outputs": [
    {
     "name": "stdout",
     "output_type": "stream",
     "text": [
      "['a' 'b' 'c' 'd' '5' '6' 'nan' '10.0']\n",
      "0       a\n",
      "1       b\n",
      "2       c\n",
      "3       d\n",
      "4       5\n",
      "5       6\n",
      "6     nan\n",
      "7    10.0\n",
      "dtype: object\n"
     ]
    }
   ],
   "source": [
    "#通过ndarray创建一个系列\n",
    "data = np.array(['a','b','c','d',5,6,np.NaN,10.0])\n",
    "ser02 = pd.Series(data)\n",
    "print(data)\n",
    "print(ser02)"
   ]
  },
  {
   "cell_type": "code",
   "execution_count": 11,
   "metadata": {},
   "outputs": [
    {
     "name": "stdout",
     "output_type": "stream",
     "text": [
      "object\n",
      "RangeIndex(start=0, stop=8, step=1)\n",
      "['a' 'b' 'c' 'd' '5' '6' 'nan' '10.0']\n"
     ]
    }
   ],
   "source": [
    "#查看series的索引，类型，值\n",
    "print(ser02.dtype)\n",
    "print(ser02.index)\n",
    "print(ser02.values)"
   ]
  },
  {
   "cell_type": "markdown",
   "metadata": {},
   "source": [
    "通过一维数组创建"
   ]
  },
  {
   "cell_type": "code",
   "execution_count": 12,
   "metadata": {},
   "outputs": [
    {
     "data": {
      "text/plain": [
       "0    50\n",
       "1    60\n",
       "2    70\n",
       "dtype: int64"
      ]
     },
     "execution_count": 12,
     "metadata": {},
     "output_type": "execute_result"
    }
   ],
   "source": [
    "#通过一维数组创建\n",
    "ser03 = pd.Series([50,60,70])\n",
    "ser03"
   ]
  },
  {
   "cell_type": "code",
   "execution_count": 15,
   "metadata": {},
   "outputs": [
    {
     "data": {
      "text/plain": [
       "语文    50\n",
       "数学    60\n",
       "英语    70\n",
       "dtype: int64"
      ]
     },
     "execution_count": 15,
     "metadata": {},
     "output_type": "execute_result"
    }
   ],
   "source": [
    "#设置索引\n",
    "ser03.index = ['语文','数学','英语']\n",
    "ser03"
   ]
  },
  {
   "cell_type": "code",
   "execution_count": 28,
   "metadata": {},
   "outputs": [
    {
     "data": {
      "text/plain": [
       "语文    70.0\n",
       "数学    80.0\n",
       "英语    90.0\n",
       "dtype: float64"
      ]
     },
     "execution_count": 28,
     "metadata": {},
     "output_type": "execute_result"
    }
   ],
   "source": [
    "#创建系列的时候指定索引\n",
    "ser04 = pd.Series(data = [70,80,90],dtype = np.float64,index = ['语文','数学','英语'])\n",
    "ser04"
   ]
  },
  {
   "cell_type": "markdown",
   "metadata": {},
   "source": [
    "通过字典创建系列"
   ]
  },
  {
   "cell_type": "code",
   "execution_count": 36,
   "metadata": {},
   "outputs": [
    {
     "data": {
      "text/plain": [
       "a    1\n",
       "b    2\n",
       "c    3\n",
       "dtype: int64"
      ]
     },
     "execution_count": 36,
     "metadata": {},
     "output_type": "execute_result"
    }
   ],
   "source": [
    "data = {'a':1,'b':2,'c':3}\n",
    "# ser05 = pd.Series(data)\n"
   ]
  },
  {
   "cell_type": "code",
   "execution_count": 39,
   "metadata": {},
   "outputs": [
    {
     "data": {
      "text/plain": [
       "m    NaN\n",
       "n    NaN\n",
       "b    2.0\n",
       "v    NaN\n",
       "dtype: float64"
      ]
     },
     "execution_count": 39,
     "metadata": {},
     "output_type": "execute_result"
    }
   ],
   "source": [
    "#指定索引\n",
    "ser05 = pd.Series(data,index = ['m','n','b','v'])\n",
    "ser05"
   ]
  },
  {
   "cell_type": "markdown",
   "metadata": {},
   "source": [
    "series值得获取"
   ]
  },
  {
   "cell_type": "code",
   "execution_count": 53,
   "metadata": {},
   "outputs": [
    {
     "name": "stdout",
     "output_type": "stream",
     "text": [
      "70.0\n",
      "70.0\n",
      "90.0\n",
      "语文    70.0\n",
      "数学    80.0\n",
      "dtype: float64\n",
      "语文    70.0\n",
      "数学    80.0\n",
      "英语    90.0\n",
      "dtype: float64\n"
     ]
    }
   ],
   "source": [
    "ser06 = pd.Series(data = [70,80,90],dtype = np.float64,index = ['语文','数学','英语'])\n",
    "ser06\n",
    "#通过索引获取\n",
    "print(ser06['语文'])\n",
    "#通过下标值\n",
    "print(ser06[0])\n",
    "print(ser06[-1])\n",
    "#获取多个数据\n",
    "print(ser06[:2])\n",
    "print(ser06['语文':'英语'])"
   ]
  },
  {
   "cell_type": "markdown",
   "metadata": {},
   "source": [
    "series的运算"
   ]
  },
  {
   "cell_type": "code",
   "execution_count": 54,
   "metadata": {},
   "outputs": [
    {
     "data": {
      "text/plain": [
       "a     981\n",
       "b     211\n",
       "c    9527\n",
       "dtype: int64"
      ]
     },
     "execution_count": 54,
     "metadata": {},
     "output_type": "execute_result"
    }
   ],
   "source": [
    "series = pd.Series({'a':981,'b':211,'c':9527})\n",
    "series"
   ]
  },
  {
   "cell_type": "code",
   "execution_count": 56,
   "metadata": {},
   "outputs": [
    {
     "data": {
      "text/plain": [
       "a     981\n",
       "c    9527\n",
       "dtype: int64"
      ]
     },
     "execution_count": 56,
     "metadata": {},
     "output_type": "execute_result"
    }
   ],
   "source": [
    "series[series>500]"
   ]
  },
  {
   "cell_type": "code",
   "execution_count": 57,
   "metadata": {},
   "outputs": [
    {
     "data": {
      "text/plain": [
       "a     991\n",
       "b     221\n",
       "c    9537\n",
       "dtype: int64"
      ]
     },
     "execution_count": 57,
     "metadata": {},
     "output_type": "execute_result"
    }
   ],
   "source": [
    "series+10"
   ]
  },
  {
   "cell_type": "code",
   "execution_count": 58,
   "metadata": {},
   "outputs": [
    {
     "data": {
      "text/plain": [
       "a     971\n",
       "b     201\n",
       "c    9517\n",
       "dtype: int64"
      ]
     },
     "execution_count": 58,
     "metadata": {},
     "output_type": "execute_result"
    }
   ],
   "source": [
    "series-10"
   ]
  },
  {
   "cell_type": "code",
   "execution_count": 59,
   "metadata": {},
   "outputs": [
    {
     "data": {
      "text/plain": [
       "a     9810\n",
       "b     2110\n",
       "c    95270\n",
       "dtype: int64"
      ]
     },
     "execution_count": 59,
     "metadata": {},
     "output_type": "execute_result"
    }
   ],
   "source": [
    "series*10"
   ]
  },
  {
   "cell_type": "code",
   "execution_count": 60,
   "metadata": {},
   "outputs": [
    {
     "data": {
      "text/plain": [
       "a     98.1\n",
       "b     21.1\n",
       "c    952.7\n",
       "dtype: float64"
      ]
     },
     "execution_count": 60,
     "metadata": {},
     "output_type": "execute_result"
    }
   ],
   "source": [
    "series/10"
   ]
  },
  {
   "cell_type": "code",
   "execution_count": 64,
   "metadata": {},
   "outputs": [
    {
     "data": {
      "text/plain": [
       "a     991\n",
       "b     231\n",
       "c    9557\n",
       "dtype: int64"
      ]
     },
     "execution_count": 64,
     "metadata": {},
     "output_type": "execute_result"
    }
   ],
   "source": [
    "#两个series相加\n",
    "series2 = pd.Series({'a':10,'b':20,'c':30})\n",
    "series+series2"
   ]
  },
  {
   "cell_type": "code",
   "execution_count": 103,
   "metadata": {},
   "outputs": [
    {
     "data": {
      "text/plain": [
       "0    5.0\n",
       "1    7.0\n",
       "2    9.0\n",
       "3    NaN\n",
       "dtype: float64"
      ]
     },
     "execution_count": 103,
     "metadata": {},
     "output_type": "execute_result"
    }
   ],
   "source": [
    "#两个serires相加\n",
    "ser01 = pd.Series([1,2,3,4])\n",
    "ser02 = pd.Series([4,5,6])\n",
    "ser01+ser02"
   ]
  },
  {
   "cell_type": "markdown",
   "metadata": {},
   "source": [
    "series使用numpy的函数进行运算"
   ]
  },
  {
   "cell_type": "code",
   "execution_count": null,
   "metadata": {
    "collapsed": true
   },
   "outputs": [],
   "source": [
    "ser01 = pd.Series([1,2,3])"
   ]
  },
  {
   "cell_type": "code",
   "execution_count": 66,
   "metadata": {},
   "outputs": [
    {
     "data": {
      "text/plain": [
       "0     2.718282\n",
       "1     7.389056\n",
       "2    20.085537\n",
       "dtype: float64"
      ]
     },
     "execution_count": 66,
     "metadata": {},
     "output_type": "execute_result"
    }
   ],
   "source": [
    "#)计算各个元素的指数e的x次方  e 约等于 2.71828\n",
    "np.exp(ser01)"
   ]
  },
  {
   "cell_type": "code",
   "execution_count": 67,
   "metadata": {},
   "outputs": [
    {
     "data": {
      "text/plain": [
       "3"
      ]
     },
     "execution_count": 67,
     "metadata": {},
     "output_type": "execute_result"
    }
   ],
   "source": [
    "np.max(ser01)"
   ]
  },
  {
   "cell_type": "markdown",
   "metadata": {},
   "source": [
    "Series缺失值检测"
   ]
  },
  {
   "cell_type": "code",
   "execution_count": 77,
   "metadata": {},
   "outputs": [
    {
     "name": "stdout",
     "output_type": "stream",
     "text": [
      "joe      80\n",
      "susan    90\n",
      "tom      70\n",
      "dtype: int64\n"
     ]
    },
    {
     "data": {
      "text/plain": [
       "tom      70.0\n",
       "joe      80.0\n",
       "susan    90.0\n",
       "anne      NaN\n",
       "dtype: float64"
      ]
     },
     "execution_count": 77,
     "metadata": {},
     "output_type": "execute_result"
    }
   ],
   "source": [
    "scores = pd.Series({'tom':70,'joe':80,'susan':90})\n",
    "print(scores)\n",
    "new_index = ['tom','joe','susan','anne']\n",
    "scores = pd.Series(scores,index = new_index)\n",
    "scores"
   ]
  },
  {
   "cell_type": "code",
   "execution_count": 82,
   "metadata": {
    "scrolled": true
   },
   "outputs": [
    {
     "data": {
      "text/plain": [
       "tom      70.0\n",
       "joe      80.0\n",
       "susan    90.0\n",
       "dtype: float64"
      ]
     },
     "execution_count": 82,
     "metadata": {},
     "output_type": "execute_result"
    }
   ],
   "source": [
    "pd.isnull(scores)\n",
    "pd.notnull(scores)\n",
    "#缺失值过滤\n",
    "scores[pd.isnull(scores)]\n",
    "scores[pd.notnull(scores)]"
   ]
  },
  {
   "cell_type": "markdown",
   "metadata": {},
   "source": [
    "series自动对齐"
   ]
  },
  {
   "cell_type": "code",
   "execution_count": 85,
   "metadata": {},
   "outputs": [
    {
     "name": "stdout",
     "output_type": "stream",
     "text": [
      "a     991.0\n",
      "b     231.0\n",
      "c    9557.0\n",
      "d       NaN\n",
      "dtype: float64\n"
     ]
    }
   ],
   "source": [
    "series = pd.Series({'a':981,'b':211,'c':9527})\n",
    "series2 = pd.Series({'a':10,'b':20,'c':30,'d':100})\n",
    "print(series+series2)"
   ]
  },
  {
   "cell_type": "markdown",
   "metadata": {},
   "source": [
    "series属性name"
   ]
  },
  {
   "cell_type": "code",
   "execution_count": 96,
   "metadata": {},
   "outputs": [
    {
     "data": {
      "text/plain": [
       "考试成绩\n",
       "joe      80\n",
       "susan    90\n",
       "tom      70\n",
       "Name: 语文, dtype: int64"
      ]
     },
     "execution_count": 96,
     "metadata": {},
     "output_type": "execute_result"
    }
   ],
   "source": [
    "scores = pd.Series({'tom':70,'joe':80,'susan':90})\n",
    "scores\n",
    "#给系列加上name属性\n",
    "scores.name = '语文'\n",
    "scores.index.name = '考试成绩'\n",
    "scores"
   ]
  },
  {
   "cell_type": "code",
   "execution_count": 92,
   "metadata": {},
   "outputs": [
    {
     "name": "stdout",
     "output_type": "stream",
     "text": [
      "语文\n",
      "[80 90 70]\n",
      "Index(['joe', 'susan', 'tom'], dtype='object', name='考试成绩')\n",
      "int64\n",
      "考试成绩\n"
     ]
    }
   ],
   "source": [
    "print(scores.name)\n",
    "print(scores.values)\n",
    "print(scores.index)\n",
    "print(scores.dtype)\n",
    "print(scores.index.name)"
   ]
  },
  {
   "cell_type": "code",
   "execution_count": 97,
   "metadata": {},
   "outputs": [
    {
     "name": "stdout",
     "output_type": "stream",
     "text": [
      "3\n"
     ]
    }
   ],
   "source": [
    "print(scores.size)"
   ]
  },
  {
   "cell_type": "code",
   "execution_count": 99,
   "metadata": {},
   "outputs": [
    {
     "name": "stdout",
     "output_type": "stream",
     "text": [
      "考试成绩\n",
      "joe      80\n",
      "susan    90\n",
      "Name: 语文, dtype: int64\n"
     ]
    }
   ],
   "source": [
    "print(scores.head(2))"
   ]
  },
  {
   "cell_type": "code",
   "execution_count": 101,
   "metadata": {},
   "outputs": [
    {
     "name": "stdout",
     "output_type": "stream",
     "text": [
      "考试成绩\n",
      "susan    90\n",
      "tom      70\n",
      "Name: 语文, dtype: int64\n"
     ]
    }
   ],
   "source": [
    "print(scores.tail(2))"
   ]
  },
  {
   "cell_type": "code",
   "execution_count": 15,
   "metadata": {},
   "outputs": [
    {
     "name": "stdout",
     "output_type": "stream",
     "text": [
      "3\n"
     ]
    }
   ],
   "source": []
  },
  {
   "cell_type": "code",
   "execution_count": null,
   "metadata": {
    "collapsed": true
   },
   "outputs": [],
   "source": []
  },
  {
   "cell_type": "code",
   "execution_count": null,
   "metadata": {
    "collapsed": true
   },
   "outputs": [],
   "source": []
  },
  {
   "cell_type": "code",
   "execution_count": null,
   "metadata": {
    "collapsed": true
   },
   "outputs": [],
   "source": []
  },
  {
   "cell_type": "code",
   "execution_count": null,
   "metadata": {
    "collapsed": true
   },
   "outputs": [],
   "source": []
  }
 ],
 "metadata": {
  "kernelspec": {
   "display_name": "Python 3",
   "language": "python",
   "name": "python3"
  },
  "language_info": {
   "codemirror_mode": {
    "name": "ipython",
    "version": 3
   },
   "file_extension": ".py",
   "mimetype": "text/x-python",
   "name": "python",
   "nbconvert_exporter": "python",
   "pygments_lexer": "ipython3",
   "version": "3.6.2"
  }
 },
 "nbformat": 4,
 "nbformat_minor": 2
}
