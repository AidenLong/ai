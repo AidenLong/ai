{
 "cells": [
  {
   "cell_type": "code",
   "execution_count": 3,
   "metadata": {
    "collapsed": true
   },
   "outputs": [],
   "source": [
    "import pandas as pd\n",
    "import numpy as np"
   ]
  },
  {
   "cell_type": "code",
   "execution_count": 4,
   "metadata": {},
   "outputs": [
    {
     "data": {
      "text/html": [
       "<div>\n",
       "<style>\n",
       "    .dataframe thead tr:only-child th {\n",
       "        text-align: right;\n",
       "    }\n",
       "\n",
       "    .dataframe thead th {\n",
       "        text-align: left;\n",
       "    }\n",
       "\n",
       "    .dataframe tbody tr th {\n",
       "        vertical-align: top;\n",
       "    }\n",
       "</style>\n",
       "<table border=\"1\" class=\"dataframe\">\n",
       "  <thead>\n",
       "    <tr style=\"text-align: right;\">\n",
       "      <th></th>\n",
       "      <th>a</th>\n",
       "      <th>b</th>\n",
       "      <th>c</th>\n",
       "      <th>d</th>\n",
       "    </tr>\n",
       "  </thead>\n",
       "  <tbody>\n",
       "    <tr>\n",
       "      <th>0</th>\n",
       "      <td>4</td>\n",
       "      <td>9</td>\n",
       "      <td>9</td>\n",
       "      <td>3</td>\n",
       "    </tr>\n",
       "    <tr>\n",
       "      <th>1</th>\n",
       "      <td>3</td>\n",
       "      <td>7</td>\n",
       "      <td>5</td>\n",
       "      <td>5</td>\n",
       "    </tr>\n",
       "    <tr>\n",
       "      <th>2</th>\n",
       "      <td>5</td>\n",
       "      <td>1</td>\n",
       "      <td>4</td>\n",
       "      <td>4</td>\n",
       "    </tr>\n",
       "    <tr>\n",
       "      <th>3</th>\n",
       "      <td>3</td>\n",
       "      <td>9</td>\n",
       "      <td>6</td>\n",
       "      <td>3</td>\n",
       "    </tr>\n",
       "  </tbody>\n",
       "</table>\n",
       "</div>"
      ],
      "text/plain": [
       "   a  b  c  d\n",
       "0  4  9  9  3\n",
       "1  3  7  5  5\n",
       "2  5  1  4  4\n",
       "3  3  9  6  3"
      ]
     },
     "execution_count": 4,
     "metadata": {},
     "output_type": "execute_result"
    }
   ],
   "source": [
    "#声明一个函数\n",
    "def f(x):\n",
    "    return x-1\n",
    "#创建数据\n",
    "data = np.random.randint(1,10,(4,4))\n",
    "df1 = pd.DataFrame(data,columns = ['a','b','c','d'])\n",
    "df1"
   ]
  },
  {
   "cell_type": "code",
   "execution_count": 5,
   "metadata": {},
   "outputs": [
    {
     "name": "stdout",
     "output_type": "stream",
     "text": [
      "   a  b\n",
      "0  3  8\n",
      "1  2  6\n",
      "2  4  0\n",
      "3  2  8\n"
     ]
    }
   ],
   "source": [
    "#对列进行操作\n",
    "print(df1.loc[:,['a','b']].apply(f))"
   ]
  },
  {
   "cell_type": "code",
   "execution_count": 6,
   "metadata": {},
   "outputs": [
    {
     "name": "stdout",
     "output_type": "stream",
     "text": [
      "   a  b  c  d\n",
      "0  3  8  8  2\n",
      "1  2  6  4  4\n",
      "2  4  0  3  3\n"
     ]
    }
   ],
   "source": [
    "#对行元素进行操作\n",
    "print(df1.loc[0:2].apply(f))"
   ]
  },
  {
   "cell_type": "code",
   "execution_count": 7,
   "metadata": {},
   "outputs": [
    {
     "name": "stdout",
     "output_type": "stream",
     "text": [
      "a    5\n",
      "b    9\n",
      "c    9\n",
      "d    5\n",
      "dtype: int64\n",
      "a    5\n",
      "b    9\n",
      "dtype: int64\n",
      "0    9\n",
      "1    7\n",
      "2    5\n",
      "3    9\n",
      "dtype: int64\n"
     ]
    }
   ],
   "source": [
    "#求和\n",
    "def f2(x):\n",
    "    return x.max()\n",
    "\n",
    "print(df1[['a','b','c','d']].apply(lambda x :x.max()))\n",
    "print(df1.loc[:,['a','b']].apply(f2))\n",
    "print(df1.loc[:].apply(f2,axis = 1))  #axis = 1 行操作"
   ]
  },
  {
   "cell_type": "code",
   "execution_count": 8,
   "metadata": {},
   "outputs": [
    {
     "name": "stdout",
     "output_type": "stream",
     "text": [
      "a    3.75\n",
      "b    6.50\n",
      "c    6.00\n",
      "d    3.75\n",
      "dtype: float64\n",
      "0    6.25\n",
      "1    5.00\n",
      "2    3.50\n",
      "3    5.25\n",
      "dtype: float64\n"
     ]
    }
   ],
   "source": [
    "#求平均\n",
    "def f3(x):\n",
    "    return x.mean()\n",
    "print(df1.loc[:,:].apply(f3))\n",
    "print(df1.loc[:].apply(f3,axis = 1))"
   ]
  },
  {
   "cell_type": "code",
   "execution_count": 9,
   "metadata": {},
   "outputs": [
    {
     "data": {
      "text/html": [
       "<div>\n",
       "<style>\n",
       "    .dataframe thead tr:only-child th {\n",
       "        text-align: right;\n",
       "    }\n",
       "\n",
       "    .dataframe thead th {\n",
       "        text-align: left;\n",
       "    }\n",
       "\n",
       "    .dataframe tbody tr th {\n",
       "        vertical-align: top;\n",
       "    }\n",
       "</style>\n",
       "<table border=\"1\" class=\"dataframe\">\n",
       "  <thead>\n",
       "    <tr style=\"text-align: right;\">\n",
       "      <th></th>\n",
       "      <th>a</th>\n",
       "      <th>b</th>\n",
       "      <th>c</th>\n",
       "      <th>d</th>\n",
       "    </tr>\n",
       "  </thead>\n",
       "  <tbody>\n",
       "    <tr>\n",
       "      <th>0</th>\n",
       "      <td>3</td>\n",
       "      <td>2</td>\n",
       "      <td>2</td>\n",
       "      <td>8</td>\n",
       "    </tr>\n",
       "    <tr>\n",
       "      <th>1</th>\n",
       "      <td>7</td>\n",
       "      <td>3</td>\n",
       "      <td>8</td>\n",
       "      <td>9</td>\n",
       "    </tr>\n",
       "    <tr>\n",
       "      <th>2</th>\n",
       "      <td>1</td>\n",
       "      <td>3</td>\n",
       "      <td>1</td>\n",
       "      <td>9</td>\n",
       "    </tr>\n",
       "    <tr>\n",
       "      <th>3</th>\n",
       "      <td>2</td>\n",
       "      <td>1</td>\n",
       "      <td>2</td>\n",
       "      <td>3</td>\n",
       "    </tr>\n",
       "  </tbody>\n",
       "</table>\n",
       "</div>"
      ],
      "text/plain": [
       "   a  b  c  d\n",
       "0  3  2  2  8\n",
       "1  7  3  8  9\n",
       "2  1  3  1  9\n",
       "3  2  1  2  3"
      ]
     },
     "execution_count": 9,
     "metadata": {},
     "output_type": "execute_result"
    }
   ],
   "source": [
    "#创建数据\n",
    "data = np.random.randint(1,10,(4,4))\n",
    "df1 = pd.DataFrame(data,columns = ['a','b','c','d'])\n",
    "df1"
   ]
  },
  {
   "cell_type": "code",
   "execution_count": 10,
   "metadata": {},
   "outputs": [
    {
     "name": "stdout",
     "output_type": "stream",
     "text": [
      "3 haha\n",
      "7 haha\n",
      "1 haha\n",
      "2 haha\n"
     ]
    },
    {
     "data": {
      "text/plain": [
       "0    None\n",
       "1    None\n",
       "2    None\n",
       "3    None\n",
       "Name: a, dtype: object"
      ]
     },
     "execution_count": 10,
     "metadata": {},
     "output_type": "execute_result"
    }
   ],
   "source": [
    "def f4(x,str):\n",
    "    print(x,str)  #第一个参数代表传入的每一个元素，的二个参数表示传入的参数\n",
    "    \n",
    "df1['a'].apply(f4,args = ('haha',))  #通过args传入参数元组"
   ]
  },
  {
   "cell_type": "markdown",
   "metadata": {},
   "source": [
    "# groupy"
   ]
  },
  {
   "cell_type": "code",
   "execution_count": 11,
   "metadata": {},
   "outputs": [
    {
     "data": {
      "text/html": [
       "<div>\n",
       "<style>\n",
       "    .dataframe thead tr:only-child th {\n",
       "        text-align: right;\n",
       "    }\n",
       "\n",
       "    .dataframe thead th {\n",
       "        text-align: left;\n",
       "    }\n",
       "\n",
       "    .dataframe tbody tr th {\n",
       "        vertical-align: top;\n",
       "    }\n",
       "</style>\n",
       "<table border=\"1\" class=\"dataframe\">\n",
       "  <thead>\n",
       "    <tr style=\"text-align: right;\">\n",
       "      <th></th>\n",
       "      <th>data1</th>\n",
       "      <th>data2</th>\n",
       "      <th>data3</th>\n",
       "      <th>key1</th>\n",
       "      <th>key2</th>\n",
       "      <th>key3</th>\n",
       "    </tr>\n",
       "  </thead>\n",
       "  <tbody>\n",
       "    <tr>\n",
       "      <th>0</th>\n",
       "      <td>1.930363</td>\n",
       "      <td>1.358842</td>\n",
       "      <td>1.245892</td>\n",
       "      <td>a</td>\n",
       "      <td>one</td>\n",
       "      <td>a</td>\n",
       "    </tr>\n",
       "    <tr>\n",
       "      <th>1</th>\n",
       "      <td>-0.444208</td>\n",
       "      <td>-0.735473</td>\n",
       "      <td>-0.306386</td>\n",
       "      <td>a</td>\n",
       "      <td>two</td>\n",
       "      <td>b</td>\n",
       "    </tr>\n",
       "    <tr>\n",
       "      <th>2</th>\n",
       "      <td>0.889586</td>\n",
       "      <td>-0.560955</td>\n",
       "      <td>1.281538</td>\n",
       "      <td>b</td>\n",
       "      <td>one</td>\n",
       "      <td>c</td>\n",
       "    </tr>\n",
       "    <tr>\n",
       "      <th>3</th>\n",
       "      <td>0.051319</td>\n",
       "      <td>0.992131</td>\n",
       "      <td>-1.704004</td>\n",
       "      <td>b</td>\n",
       "      <td>two</td>\n",
       "      <td>d</td>\n",
       "    </tr>\n",
       "    <tr>\n",
       "      <th>4</th>\n",
       "      <td>-0.547694</td>\n",
       "      <td>-0.692882</td>\n",
       "      <td>0.556923</td>\n",
       "      <td>a</td>\n",
       "      <td>one</td>\n",
       "      <td>e</td>\n",
       "    </tr>\n",
       "  </tbody>\n",
       "</table>\n",
       "</div>"
      ],
      "text/plain": [
       "      data1     data2     data3 key1 key2 key3\n",
       "0  1.930363  1.358842  1.245892    a  one    a\n",
       "1 -0.444208 -0.735473 -0.306386    a  two    b\n",
       "2  0.889586 -0.560955  1.281538    b  one    c\n",
       "3  0.051319  0.992131 -1.704004    b  two    d\n",
       "4 -0.547694 -0.692882  0.556923    a  one    e"
      ]
     },
     "execution_count": 11,
     "metadata": {},
     "output_type": "execute_result"
    }
   ],
   "source": [
    "data = pd.DataFrame({\n",
    "    'key1':list('aabba'),  \n",
    "    'key2': ['one','two','one','two','one'],  \n",
    "    'key3':list('abcde'),\n",
    "    'data1': np.random.randn(5), \n",
    "#     'data1':['1','2','3','4','5'],\n",
    "    'data2': np.random.randn(5),\n",
    "    'data3': np.random.randn(5)\n",
    "})  \n",
    "\n",
    "data"
   ]
  },
  {
   "cell_type": "code",
   "execution_count": 14,
   "metadata": {},
   "outputs": [
    {
     "name": "stdout",
     "output_type": "stream",
     "text": [
      "[('a',       data1     data2     data3 key1 key2 key3\n",
      "0  1.930363  1.358842  1.245892    a  one    a\n",
      "1 -0.444208 -0.735473 -0.306386    a  two    b\n",
      "4 -0.547694 -0.692882  0.556923    a  one    e), ('b',       data1     data2     data3 key1 key2 key3\n",
      "2  0.889586 -0.560955  1.281538    b  one    c\n",
      "3  0.051319  0.992131 -1.704004    b  two    d)]\n"
     ]
    }
   ],
   "source": [
    "# print(data.groupby(['key3']).apply(lambda x : x.max()))\n",
    "print(list(data.groupby(['key1'])))\n",
    "# data.groupby(['key3']).apply(lambda x : x.max())"
   ]
  },
  {
   "cell_type": "code",
   "execution_count": 130,
   "metadata": {},
   "outputs": [
    {
     "name": "stdout",
     "output_type": "stream",
     "text": [
      "a\n",
      "      data1     data2     data3 key1 key2\n",
      "0 -1.848392 -1.460150 -1.149311    a  one\n",
      "1  0.023537  0.478313  0.292577    a  two\n",
      "4 -0.240423  0.433504  0.446909    a  one\n",
      "b\n",
      "      data1     data2     data3 key1 key2\n",
      "2 -0.718688  2.091703  1.715757    b  one\n",
      "3 -0.447861 -0.124085  0.419056    b  two\n"
     ]
    }
   ],
   "source": [
    "#遍历分组\n",
    "for name,grou in data.groupby(['key1']):\n",
    "    print(name)\n",
    "    print(grou)"
   ]
  },
  {
   "cell_type": "code",
   "execution_count": 131,
   "metadata": {},
   "outputs": [
    {
     "name": "stdout",
     "output_type": "stream",
     "text": [
      "         data1     data2     data3\n",
      "key1                              \n",
      "a    -0.688426 -0.182778 -0.136608\n",
      "b    -0.583274  0.983809  1.067406\n",
      "         data1     data2     data3\n",
      "key1                              \n",
      "a    -2.065278 -0.548333 -0.409825\n",
      "b    -1.166548  1.967618  2.134813\n",
      "key1\n",
      "a    0.023537\n",
      "b   -0.447861\n",
      "Name: data1, dtype: float64\n"
     ]
    }
   ],
   "source": [
    "grou = data.groupby(['key1'])\n",
    "grou \n",
    "print(grou.mean())  #通过使用聚合函数查看情况\n",
    "print(grou.sum())\n",
    "print(grou['data1'].max())"
   ]
  },
  {
   "cell_type": "code",
   "execution_count": 132,
   "metadata": {},
   "outputs": [
    {
     "data": {
      "text/plain": [
       "key1  key2\n",
       "a     one    -1.044407\n",
       "      two     0.023537\n",
       "b     one    -0.718688\n",
       "      two    -0.447861\n",
       "Name: data1, dtype: float64"
      ]
     },
     "execution_count": 132,
     "metadata": {},
     "output_type": "execute_result"
    }
   ],
   "source": [
    "grou = data.groupby(['key1','key2']).mean()\n",
    "# grou['data1'].unstack()\n",
    "grou['data1']"
   ]
  },
  {
   "cell_type": "code",
   "execution_count": 137,
   "metadata": {},
   "outputs": [
    {
     "data": {
      "text/html": [
       "<div>\n",
       "<style>\n",
       "    .dataframe thead tr:only-child th {\n",
       "        text-align: right;\n",
       "    }\n",
       "\n",
       "    .dataframe thead th {\n",
       "        text-align: left;\n",
       "    }\n",
       "\n",
       "    .dataframe tbody tr th {\n",
       "        vertical-align: top;\n",
       "    }\n",
       "</style>\n",
       "<table border=\"1\" class=\"dataframe\">\n",
       "  <thead>\n",
       "    <tr style=\"text-align: right;\">\n",
       "      <th></th>\n",
       "      <th></th>\n",
       "      <th>data1</th>\n",
       "      <th>data3</th>\n",
       "    </tr>\n",
       "    <tr>\n",
       "      <th>key1</th>\n",
       "      <th>key2</th>\n",
       "      <th></th>\n",
       "      <th></th>\n",
       "    </tr>\n",
       "  </thead>\n",
       "  <tbody>\n",
       "    <tr>\n",
       "      <th rowspan=\"2\" valign=\"top\">a</th>\n",
       "      <th>one</th>\n",
       "      <td>-1.044407</td>\n",
       "      <td>-0.351201</td>\n",
       "    </tr>\n",
       "    <tr>\n",
       "      <th>two</th>\n",
       "      <td>0.023537</td>\n",
       "      <td>0.292577</td>\n",
       "    </tr>\n",
       "    <tr>\n",
       "      <th rowspan=\"2\" valign=\"top\">b</th>\n",
       "      <th>one</th>\n",
       "      <td>-0.718688</td>\n",
       "      <td>1.715757</td>\n",
       "    </tr>\n",
       "    <tr>\n",
       "      <th>two</th>\n",
       "      <td>-0.447861</td>\n",
       "      <td>0.419056</td>\n",
       "    </tr>\n",
       "  </tbody>\n",
       "</table>\n",
       "</div>"
      ],
      "text/plain": [
       "              data1     data3\n",
       "key1 key2                    \n",
       "a    one  -1.044407 -0.351201\n",
       "     two   0.023537  0.292577\n",
       "b    one  -0.718688  1.715757\n",
       "     two  -0.447861  0.419056"
      ]
     },
     "execution_count": 137,
     "metadata": {},
     "output_type": "execute_result"
    }
   ],
   "source": [
    "data.groupby(['key1','key2'])['data1','data3'].mean()"
   ]
  },
  {
   "cell_type": "code",
   "execution_count": 15,
   "metadata": {},
   "outputs": [
    {
     "data": {
      "text/plain": [
       "key1  key2\n",
       "a     one     0.691335\n",
       "      two    -0.444208\n",
       "b     one     0.889586\n",
       "      two     0.051319\n",
       "Name: data1, dtype: float64"
      ]
     },
     "execution_count": 15,
     "metadata": {},
     "output_type": "execute_result"
    }
   ],
   "source": [
    "data['data1'].groupby([data['key1'],data['key2']]).mean()"
   ]
  },
  {
   "cell_type": "markdown",
   "metadata": {},
   "source": [
    "练习"
   ]
  },
  {
   "cell_type": "code",
   "execution_count": 102,
   "metadata": {},
   "outputs": [
    {
     "data": {
      "text/html": [
       "<div>\n",
       "<style>\n",
       "    .dataframe thead tr:only-child th {\n",
       "        text-align: right;\n",
       "    }\n",
       "\n",
       "    .dataframe thead th {\n",
       "        text-align: left;\n",
       "    }\n",
       "\n",
       "    .dataframe tbody tr th {\n",
       "        vertical-align: top;\n",
       "    }\n",
       "</style>\n",
       "<table border=\"1\" class=\"dataframe\">\n",
       "  <thead>\n",
       "    <tr style=\"text-align: right;\">\n",
       "      <th></th>\n",
       "      <th>address</th>\n",
       "      <th>age</th>\n",
       "      <th>money</th>\n",
       "      <th>name</th>\n",
       "      <th>sex</th>\n",
       "    </tr>\n",
       "  </thead>\n",
       "  <tbody>\n",
       "    <tr>\n",
       "      <th>0</th>\n",
       "      <td>上海</td>\n",
       "      <td>19</td>\n",
       "      <td>8000</td>\n",
       "      <td>joe</td>\n",
       "      <td>man</td>\n",
       "    </tr>\n",
       "    <tr>\n",
       "      <th>1</th>\n",
       "      <td>北京</td>\n",
       "      <td>19</td>\n",
       "      <td>8500</td>\n",
       "      <td>susan</td>\n",
       "      <td>women</td>\n",
       "    </tr>\n",
       "    <tr>\n",
       "      <th>2</th>\n",
       "      <td>上海</td>\n",
       "      <td>18</td>\n",
       "      <td>7000</td>\n",
       "      <td>anne</td>\n",
       "      <td>women</td>\n",
       "    </tr>\n",
       "    <tr>\n",
       "      <th>3</th>\n",
       "      <td>北京</td>\n",
       "      <td>20</td>\n",
       "      <td>9000</td>\n",
       "      <td>black</td>\n",
       "      <td>man</td>\n",
       "    </tr>\n",
       "    <tr>\n",
       "      <th>4</th>\n",
       "      <td>北京</td>\n",
       "      <td>20</td>\n",
       "      <td>10000</td>\n",
       "      <td>monika</td>\n",
       "      <td>women</td>\n",
       "    </tr>\n",
       "    <tr>\n",
       "      <th>5</th>\n",
       "      <td>上海</td>\n",
       "      <td>18</td>\n",
       "      <td>7500</td>\n",
       "      <td>ronaldo</td>\n",
       "      <td>man</td>\n",
       "    </tr>\n",
       "    <tr>\n",
       "      <th>6</th>\n",
       "      <td>北京</td>\n",
       "      <td>19</td>\n",
       "      <td>8800</td>\n",
       "      <td>leonarldo</td>\n",
       "      <td>man</td>\n",
       "    </tr>\n",
       "    <tr>\n",
       "      <th>7</th>\n",
       "      <td>上海</td>\n",
       "      <td>20</td>\n",
       "      <td>9300</td>\n",
       "      <td>tom</td>\n",
       "      <td>man</td>\n",
       "    </tr>\n",
       "    <tr>\n",
       "      <th>8</th>\n",
       "      <td>北京</td>\n",
       "      <td>18</td>\n",
       "      <td>12000</td>\n",
       "      <td>yilianna</td>\n",
       "      <td>women</td>\n",
       "    </tr>\n",
       "    <tr>\n",
       "      <th>9</th>\n",
       "      <td>上海</td>\n",
       "      <td>19</td>\n",
       "      <td>11000</td>\n",
       "      <td>bulanni</td>\n",
       "      <td>women</td>\n",
       "    </tr>\n",
       "  </tbody>\n",
       "</table>\n",
       "</div>"
      ],
      "text/plain": [
       "  address  age  money       name    sex\n",
       "0      上海   19   8000        joe    man\n",
       "1      北京   19   8500      susan  women\n",
       "2      上海   18   7000       anne  women\n",
       "3      北京   20   9000      black    man\n",
       "4      北京   20  10000     monika  women\n",
       "5      上海   18   7500    ronaldo    man\n",
       "6      北京   19   8800  leonarldo    man\n",
       "7      上海   20   9300        tom    man\n",
       "8      北京   18  12000   yilianna  women\n",
       "9      上海   19  11000    bulanni  women"
      ]
     },
     "execution_count": 102,
     "metadata": {},
     "output_type": "execute_result"
    }
   ],
   "source": [
    "#请结合apply与groupy函数完成一下练习\n",
    "#根据地区进行分组   查看平均年龄和工资\n",
    "#根据年龄进行分组   查看平均工资\n",
    "#根据性别进行分组   查看平均工资\n",
    "#先根据地区，然后在根据性别进行分组，查看各地区不同性别的平均工资\n",
    "df6 = pd.DataFrame({\n",
    "    'name':['joe', 'susan', 'anne', 'black', 'monika','ronaldo','leonarldo','tom','yilianna','bulanni'],\n",
    "    'age':[19,19,18,20,20,18,19,20,18,19],\n",
    "    'sex':['man','women','women','man','women','man','man','man','women','women'],\n",
    "    'address':['上海','北京','上海','北京','北京','上海','北京','上海','北京','上海'],\n",
    "    'money':[8000,8500,7000,9000,10000,7500,8800,9300,12000,11000]\n",
    "})\n",
    "df6"
   ]
  },
  {
   "cell_type": "code",
   "execution_count": 111,
   "metadata": {},
   "outputs": [
    {
     "name": "stdout",
     "output_type": "stream",
     "text": [
      "          age   money\n",
      "address              \n",
      "上海       18.8  8560.0\n",
      "北京       19.2  9660.0\n",
      "--------------------\n",
      "age\n",
      "18    8833.333333\n",
      "19    9075.000000\n",
      "20    9433.333333\n",
      "Name: money, dtype: float64\n",
      "--------------------\n",
      "sex\n",
      "man      8520.0\n",
      "women    9700.0\n",
      "dtype: float64\n",
      "--------------------\n",
      "address  sex  \n",
      "上海       man       8266.666667\n",
      "         women     9000.000000\n",
      "北京       man       8900.000000\n",
      "         women    10166.666667\n",
      "dtype: float64\n"
     ]
    }
   ],
   "source": [
    "def f1(x):\n",
    "    return x.mean()\n",
    "\n",
    "def f2(x):\n",
    "    return x['money'].mean()\n",
    "#根据地区进行分组   查看平均年龄和工资\n",
    "print(df6.groupby(['address']).apply(f1))\n",
    "print('-'*20)\n",
    "#根据年龄进行分组   查看平均工资\n",
    "print(df6.groupby(['age'])['money'].apply(f1))\n",
    "print('-'*20)\n",
    "#根据性别进行分组   查看平均工资\n",
    "print(df6.groupby(['sex']).apply(f2))\n",
    "print('-'*20)\n",
    "#先根据地区，然后在根据性别进行分组，查看各地区不同性别的平均工资\n",
    "print(df6.groupby(['address','sex']).apply(f2))"
   ]
  },
  {
   "cell_type": "code",
   "execution_count": 118,
   "metadata": {},
   "outputs": [
    {
     "name": "stdout",
     "output_type": "stream",
     "text": [
      "address\n",
      "上海    0.623489\n",
      "北京   -0.558134\n",
      "dtype: float64\n"
     ]
    }
   ],
   "source": [
    "def f3(x):\n",
    "    return x['age'].corr(x['money'])\n",
    "print(df6.groupby(['address'])['age','money'].apply(f3))"
   ]
  },
  {
   "cell_type": "code",
   "execution_count": 146,
   "metadata": {
    "collapsed": true
   },
   "outputs": [],
   "source": [
    "df = pd.DataFrame({'性别' : ['男', '女', '男', '女',\n",
    "                              '男', '女', '男', '男'],\n",
    "                       '成绩' : ['优秀', '优秀', '及格', '差',\n",
    "                              '及格', '及格', '优秀', '差'],\n",
    "                       '年龄' : [15,14,15,12,13,14,15,16]})\n",
    "GroupBy=df.groupby(\"性别\")"
   ]
  },
  {
   "cell_type": "code",
   "execution_count": 147,
   "metadata": {},
   "outputs": [
    {
     "name": "stdout",
     "output_type": "stream",
     "text": [
      "女\n",
      "   年龄 性别  成绩\n",
      "1  14  女  优秀\n",
      "5  14  女  及格\n",
      "3  12  女   差\n",
      "男\n",
      "   年龄 性别  成绩\n",
      "0  15  男  优秀\n",
      "6  15  男  优秀\n",
      "2  15  男  及格\n",
      "4  13  男  及格\n",
      "7  16  男   差\n"
     ]
    }
   ],
   "source": [
    "#根据性别进行成绩排序\n",
    "for name ,goru in GroupBy:\n",
    "    print(name)\n",
    "    print(goru.sort_values(by = '成绩'))\n"
   ]
  },
  {
   "cell_type": "code",
   "execution_count": 167,
   "metadata": {},
   "outputs": [
    {
     "name": "stdout",
     "output_type": "stream",
     "text": [
      "男生的比例为： 62.5%\n",
      "女生的比例为： 37.5%\n"
     ]
    }
   ],
   "source": [
    "#计算男女比例\n",
    "total_cnt = df[\"成绩\"].count()\n",
    "total_cnt\n",
    "men=df.groupby(\"性别\")['成绩'].count()\n",
    "nv = (men.loc['女']/total_cnt)*100\n",
    "nan = (men.loc['男']/total_cnt)*100\n",
    "print('男生的比例为：',str(nan)+'%')\n",
    "print('女生的比例为：',str(nv)+'%')\n",
    "#成绩比例"
   ]
  },
  {
   "cell_type": "code",
   "execution_count": null,
   "metadata": {
    "collapsed": true
   },
   "outputs": [],
   "source": []
  }
 ],
 "metadata": {
  "kernelspec": {
   "display_name": "Python 3",
   "language": "python",
   "name": "python3"
  },
  "language_info": {
   "codemirror_mode": {
    "name": "ipython",
    "version": 3
   },
   "file_extension": ".py",
   "mimetype": "text/x-python",
   "name": "python",
   "nbconvert_exporter": "python",
   "pygments_lexer": "ipython3",
   "version": "3.6.2"
  }
 },
 "nbformat": 4,
 "nbformat_minor": 2
}
