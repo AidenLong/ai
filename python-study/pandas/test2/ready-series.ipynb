{
 "cells": [
  {
   "cell_type": "code",
   "execution_count": 2,
   "metadata": {
    "collapsed": true
   },
   "outputs": [],
   "source": [
    "import pandas as pd\n",
    "import numpy as np"
   ]
  },
  {
   "cell_type": "code",
   "execution_count": 4,
   "metadata": {},
   "outputs": [
    {
     "data": {
      "text/plain": [
       "Series([], dtype: float64)"
      ]
     },
     "execution_count": 4,
     "metadata": {},
     "output_type": "execute_result"
    }
   ],
   "source": [
    "ser1 = pd.Series()\n",
    "ser1"
   ]
  },
  {
   "cell_type": "code",
   "execution_count": 8,
   "metadata": {},
   "outputs": [
    {
     "name": "stdout",
     "output_type": "stream",
     "text": [
      "['a' 'b' '1' '2' '3' 'nan' '3.141592653589793']\n",
      "0                    a\n",
      "1                    b\n",
      "2                    1\n",
      "3                    2\n",
      "4                    3\n",
      "5                  nan\n",
      "6    3.141592653589793\n",
      "dtype: object\n"
     ]
    }
   ],
   "source": [
    "#通过ndarray创建系列\n",
    "data = np.array(['a','b',1,2,3,np.NaN,np.pi])\n",
    "ser2 = pd.Series(data)\n",
    "print(data)\n",
    "print(ser2)"
   ]
  },
  {
   "cell_type": "code",
   "execution_count": 9,
   "metadata": {},
   "outputs": [
    {
     "name": "stdout",
     "output_type": "stream",
     "text": [
      "object\n",
      "RangeIndex(start=0, stop=7, step=1)\n",
      "['a' 'b' '1' '2' '3' 'nan' '3.141592653589793']\n"
     ]
    }
   ],
   "source": [
    "#查看series的索引类型和值\n",
    "print(ser2.dtype)#类型\n",
    "print(ser2.index)#索引\n",
    "print(ser2.values)#值"
   ]
  },
  {
   "cell_type": "code",
   "execution_count": 10,
   "metadata": {},
   "outputs": [
    {
     "data": {
      "text/plain": [
       "0    a\n",
       "1    b\n",
       "2    c\n",
       "dtype: object"
      ]
     },
     "execution_count": 10,
     "metadata": {},
     "output_type": "execute_result"
    }
   ],
   "source": [
    "#通过一维数组创建\n",
    "ser3 = pd.Series(['a','b','c'])\n",
    "ser3"
   ]
  },
  {
   "cell_type": "code",
   "execution_count": 11,
   "metadata": {},
   "outputs": [
    {
     "data": {
      "text/plain": [
       "语文    a\n",
       "数学    b\n",
       "英语    c\n",
       "dtype: object"
      ]
     },
     "execution_count": 11,
     "metadata": {},
     "output_type": "execute_result"
    }
   ],
   "source": [
    "#设置索引\n",
    "ser3.index = ['语文','数学','英语']\n",
    "print(ser3)"
   ]
  },
  {
   "cell_type": "code",
   "execution_count": 15,
   "metadata": {},
   "outputs": [
    {
     "data": {
      "text/plain": [
       "语文    70.0\n",
       "数学    80.0\n",
       "英语    90.0\n",
       "dtype: float64"
      ]
     },
     "execution_count": 15,
     "metadata": {},
     "output_type": "execute_result"
    }
   ],
   "source": [
    "#创建系列的时候设置索引\n",
    "ser3 = pd.Series(data = [70,80,90],dtype = np.float64,index = ['语文','数学','英语'])\n",
    "ser3"
   ]
  },
  {
   "cell_type": "code",
   "execution_count": 17,
   "metadata": {},
   "outputs": [
    {
     "name": "stdout",
     "output_type": "stream",
     "text": [
      "数学    80\n",
      "英语    90\n",
      "语文    70\n",
      "dtype: int64\n",
      "int64\n",
      "Index(['数学', '英语', '语文'], dtype='object')\n",
      "[80 90 70]\n"
     ]
    }
   ],
   "source": [
    "#通过字典的方式创建\n",
    "data = {'语文':70,'数学':80,'英语':90}\n",
    "ser4 = pd.Series(data)\n",
    "print(ser4)\n",
    "print(ser4.dtype)\n",
    "print(ser4.index)\n",
    "print(ser4.values)"
   ]
  },
  {
   "cell_type": "code",
   "execution_count": 27,
   "metadata": {},
   "outputs": [
    {
     "name": "stdout",
     "output_type": "stream",
     "text": [
      "数学    80\n",
      "英语    90\n",
      "语文    70\n",
      "dtype: int64\n",
      "70\n",
      "数学    80\n",
      "英语    90\n",
      "语文    70\n",
      "dtype: int64\n",
      "80\n",
      "数学    80\n",
      "英语    90\n",
      "dtype: int64\n",
      "数学    80\n",
      "英语    90\n",
      "语文    70\n",
      "dtype: int64\n"
     ]
    }
   ],
   "source": [
    "#获取series的值\n",
    "data = {'语文':70,'数学':80,'英语':90}\n",
    "ser4 = pd.Series(data)\n",
    "print(ser4)\n",
    "#通过索引\n",
    "print(ser4['语文'])\n",
    "\n",
    "#通过下标\n",
    "print(ser4[0])\n",
    "\n",
    "#获取多个数据\n",
    "print(ser4[0:2])\n",
    "print(ser4[0:len(ser4)])"
   ]
  },
  {
   "cell_type": "code",
   "execution_count": 33,
   "metadata": {},
   "outputs": [
    {
     "name": "stdout",
     "output_type": "stream",
     "text": [
      "数学    80\n",
      "英语    90\n",
      "语文    70\n",
      "dtype: int64\n",
      "数学     90\n",
      "英语    100\n",
      "语文     80\n",
      "dtype: int64\n",
      "数学    800\n",
      "英语    900\n",
      "语文    700\n",
      "dtype: int64\n",
      "数学    80\n",
      "英语    90\n",
      "dtype: int64\n",
      "数学    5.540622e+34\n",
      "英语    1.220403e+39\n",
      "语文    2.515439e+30\n",
      "dtype: float64\n"
     ]
    }
   ],
   "source": [
    "#series的运算\n",
    "ser5 = pd.Series({'语文':70,'数学':80,'英语':90})\n",
    "print(ser5)\n",
    "print(ser5+10)\n",
    "print(ser5*10)\n",
    "\n",
    "print(ser5[ser5>70])\n",
    "print(np.exp(ser5))"
   ]
  },
  {
   "cell_type": "code",
   "execution_count": 53,
   "metadata": {},
   "outputs": [
    {
     "name": "stdout",
     "output_type": "stream",
     "text": [
      "joe       70.0\n",
      "tom       80.0\n",
      "anne      90.0\n",
      "monika     NaN\n",
      "dtype: float64\n",
      "joe     70.0\n",
      "tom     80.0\n",
      "anne    90.0\n",
      "dtype: float64\n",
      "joe     70.0\n",
      "tom     80.0\n",
      "anne    90.0\n",
      "dtype: float64\n"
     ]
    }
   ],
   "source": [
    "#series检测确实值\n",
    "ser6 = pd.Series({'joe':70,'tom':80,'anne':90},index = ['joe','tom','anne','monika'])\n",
    "print(ser6)\n",
    "# print(ser6.isnull())#检查是否为空\n",
    "# print(ser6.notnull())\n",
    "print(ser6[[True,True,True,False]])  #穿入bool值输出对应的内容\n",
    "print(ser6[ser6.notnull()])\n",
    "\n",
    "\n"
   ]
  },
  {
   "cell_type": "code",
   "execution_count": 59,
   "metadata": {},
   "outputs": [
    {
     "name": "stdout",
     "output_type": "stream",
     "text": [
      "tom     70\n",
      "joe     80\n",
      "anne    90\n",
      "dtype: int64\n",
      "joe        80\n",
      "anne       90\n",
      "monika    100\n",
      "dtype: int64\n",
      "anne      180.0\n",
      "joe       160.0\n",
      "monika      NaN\n",
      "tom         NaN\n",
      "dtype: float64\n"
     ]
    }
   ],
   "source": [
    "#自动对齐\n",
    "ser7 = pd.Series([70,80,90],index = ['tom','joe','anne'])\n",
    "ser8 = pd.Series([80,90,100],index = ['joe','anne','monika'])\n",
    "ser9 = ser7+ser8\n",
    "print(ser7)\n",
    "print(ser8)\n",
    "print(ser9)"
   ]
  },
  {
   "cell_type": "code",
   "execution_count": 65,
   "metadata": {},
   "outputs": [
    {
     "name": "stdout",
     "output_type": "stream",
     "text": [
      "10\n"
     ]
    },
    {
     "data": {
      "text/plain": [
       "姓名\n",
       "tom     70\n",
       "joe     80\n",
       "anne    90\n",
       "Name: 个人成绩, dtype: int64"
      ]
     },
     "execution_count": 65,
     "metadata": {},
     "output_type": "execute_result"
    }
   ],
   "source": [
    "#series的name属性\n",
    "ser10 = pd.Series([70,80,90],index = ['tom','joe','anne'])\n",
    "print(10)\n",
    "ser10.name = '个人成绩'\n",
    "ser10.index.name = '姓名'\n",
    "ser10"
   ]
  },
  {
   "cell_type": "code",
   "execution_count": null,
   "metadata": {
    "collapsed": true
   },
   "outputs": [],
   "source": []
  }
 ],
 "metadata": {
  "kernelspec": {
   "display_name": "Python 3",
   "language": "python",
   "name": "python3"
  },
  "language_info": {
   "codemirror_mode": {
    "name": "ipython",
    "version": 3
   },
   "file_extension": ".py",
   "mimetype": "text/x-python",
   "name": "python",
   "nbconvert_exporter": "python",
   "pygments_lexer": "ipython3",
   "version": "3.6.2"
  }
 },
 "nbformat": 4,
 "nbformat_minor": 2
}
