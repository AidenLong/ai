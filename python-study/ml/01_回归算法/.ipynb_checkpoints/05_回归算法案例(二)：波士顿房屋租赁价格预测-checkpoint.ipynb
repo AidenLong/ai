{
 "cells": [
  {
   "cell_type": "code",
   "execution_count": 2,
   "metadata": {},
   "outputs": [],
   "source": [
    "import numpy as np\n",
    "import matplotlib as mpl\n",
    "import matplotlib.pyplot as plt\n",
    "import pandas as pd\n",
    "import warnings\n",
    "import sklearn\n",
    "from sklearn.linear_model import LinearRegression, LassoCV, RidgeCV, ElasticNetCV\n",
    "from sklearn.preprocessing import PolynomialFeatures\n",
    "from sklearn.pipeline import Pipeline\n",
    "from sklearn.linear_model.coordinate_descent import ConvergenceWarning\n",
    "from sklearn.model_selection import train_test_split\n",
    "from sklearn.preprocessing import StandardScaler\n",
    "from sklearn.model_selection import GridSearchCV\n",
    "from sklearn import metrics"
   ]
  },
  {
   "cell_type": "code",
   "execution_count": 3,
   "metadata": {},
   "outputs": [],
   "source": [
    "def notEmpty(s):\n",
    "    return s != ''"
   ]
  },
  {
   "cell_type": "code",
   "execution_count": 4,
   "metadata": {},
   "outputs": [
    {
     "data": {
      "text/html": [
       "<div>\n",
       "<style scoped>\n",
       "    .dataframe tbody tr th:only-of-type {\n",
       "        vertical-align: middle;\n",
       "    }\n",
       "\n",
       "    .dataframe tbody tr th {\n",
       "        vertical-align: top;\n",
       "    }\n",
       "\n",
       "    .dataframe thead th {\n",
       "        text-align: right;\n",
       "    }\n",
       "</style>\n",
       "<table border=\"1\" class=\"dataframe\">\n",
       "  <thead>\n",
       "    <tr style=\"text-align: right;\">\n",
       "      <th></th>\n",
       "      <th>0</th>\n",
       "    </tr>\n",
       "  </thead>\n",
       "  <tbody>\n",
       "    <tr>\n",
       "      <th>0</th>\n",
       "      <td>0.00632  18.00   2.310  0  0.5380  6.5750  65...</td>\n",
       "    </tr>\n",
       "    <tr>\n",
       "      <th>1</th>\n",
       "      <td>0.02731   0.00   7.070  0  0.4690  6.4210  78...</td>\n",
       "    </tr>\n",
       "    <tr>\n",
       "      <th>2</th>\n",
       "      <td>0.02729   0.00   7.070  0  0.4690  7.1850  61...</td>\n",
       "    </tr>\n",
       "    <tr>\n",
       "      <th>3</th>\n",
       "      <td>0.03237   0.00   2.180  0  0.4580  6.9980  45...</td>\n",
       "    </tr>\n",
       "    <tr>\n",
       "      <th>4</th>\n",
       "      <td>0.06905   0.00   2.180  0  0.4580  7.1470  54...</td>\n",
       "    </tr>\n",
       "  </tbody>\n",
       "</table>\n",
       "</div>"
      ],
      "text/plain": [
       "                                                   0\n",
       "0   0.00632  18.00   2.310  0  0.5380  6.5750  65...\n",
       "1   0.02731   0.00   7.070  0  0.4690  6.4210  78...\n",
       "2   0.02729   0.00   7.070  0  0.4690  7.1850  61...\n",
       "3   0.03237   0.00   2.180  0  0.4580  6.9980  45...\n",
       "4   0.06905   0.00   2.180  0  0.4580  7.1470  54..."
      ]
     },
     "execution_count": 4,
     "metadata": {},
     "output_type": "execute_result"
    }
   ],
   "source": [
    "## 加载数据\n",
    "names = ['CRIM','ZN', 'INDUS','CHAS','NOX','RM','AGE','DIS','RAD','TAX','PTRATIO','B','LSTAT']\n",
    "path = \"datas/boston_housing.data\"\n",
    "## 由于数据文件格式不统一，所以读取的时候，先按照一行一个字段属性读取数据，然后再安装每行数据进行处理\n",
    "fd = pd.read_csv(path,header=None)\n",
    "fd.head()"
   ]
  },
  {
   "cell_type": "code",
   "execution_count": 5,
   "metadata": {},
   "outputs": [],
   "source": [
    "## 设置字符集，防止中文乱码\n",
    "mpl.rcParams['font.sans-serif']=[u'simHei']\n",
    "mpl.rcParams['axes.unicode_minus']=False\n",
    "## 拦截异常\n",
    "warnings.filterwarnings(action = 'ignore', category=ConvergenceWarning)"
   ]
  },
  {
   "cell_type": "code",
   "execution_count": 6,
   "metadata": {},
   "outputs": [
    {
     "name": "stdout",
     "output_type": "stream",
     "text": [
      "[[6.3200e-03 1.8000e+01 2.3100e+00 0.0000e+00 5.3800e-01 6.5750e+00\n",
      "  6.5200e+01 4.0900e+00 1.0000e+00 2.9600e+02 1.5300e+01 3.9690e+02\n",
      "  4.9800e+00]\n",
      " [2.7310e-02 0.0000e+00 7.0700e+00 0.0000e+00 4.6900e-01 6.4210e+00\n",
      "  7.8900e+01 4.9671e+00 2.0000e+00 2.4200e+02 1.7800e+01 3.9690e+02\n",
      "  9.1400e+00]\n",
      " [2.7290e-02 0.0000e+00 7.0700e+00 0.0000e+00 4.6900e-01 7.1850e+00\n",
      "  6.1100e+01 4.9671e+00 2.0000e+00 2.4200e+02 1.7800e+01 3.9283e+02\n",
      "  4.0300e+00]\n",
      " [3.2370e-02 0.0000e+00 2.1800e+00 0.0000e+00 4.5800e-01 6.9980e+00\n",
      "  4.5800e+01 6.0622e+00 3.0000e+00 2.2200e+02 1.8700e+01 3.9463e+02\n",
      "  2.9400e+00]\n",
      " [6.9050e-02 0.0000e+00 2.1800e+00 0.0000e+00 4.5800e-01 7.1470e+00\n",
      "  5.4200e+01 6.0622e+00 3.0000e+00 2.2200e+02 1.8700e+01 3.9690e+02\n",
      "  5.3300e+00]]\n",
      "[24.  21.6 34.7 33.4 36.2]\n",
      "(506,)\n",
      "样本数据量:506, 特征个数：13\n",
      "target样本数据量:506\n"
     ]
    }
   ],
   "source": [
    "## 加载数据\n",
    "names = ['CRIM','ZN', 'INDUS','CHAS','NOX','RM','AGE','DIS','RAD','TAX','PTRATIO','B','LSTAT']\n",
    "path = \"datas/boston_housing.data\"\n",
    "## 由于数据文件格式不统一，所以读取的时候，先按照一行一个字段属性读取数据，然后再安装每行数据进行处理\n",
    "fd = pd.read_csv(path,header=None)\n",
    "# print (fd.shape)\n",
    "data = np.empty((len(fd), 14))\n",
    "for i, d in enumerate(fd.values):#enumerate生成一列索 引i,d为其元素\n",
    "\n",
    "    d = map(float, filter(notEmpty, d[0].split(' ')))#filter一个函数，一个list\n",
    "    \n",
    "    #根据函数结果是否为真，来过滤list中的项。\n",
    "    data[i] = list(d)\n",
    "    \n",
    "## 分割数据\n",
    "x, y = np.split(data, (13,), axis=1)\n",
    "print (x[0:5])\n",
    "y = y.ravel() # 转换格式 拉直操作\n",
    "print (y[0:5])\n",
    "ly=len(y)\n",
    "print(y.shape)\n",
    "print (\"样本数据量:%d, 特征个数：%d\" % x.shape)\n",
    "print (\"target样本数据量:%d\" % y.shape[0])"
   ]
  },
  {
   "cell_type": "code",
   "execution_count": 7,
   "metadata": {},
   "outputs": [],
   "source": [
    "## Pipeline常用于并行调参\n",
    "models = [\n",
    "    Pipeline([\n",
    "            ('ss', StandardScaler()),\n",
    "            ('poly', PolynomialFeatures()),\n",
    "            ('linear', RidgeCV(alphas=np.logspace(-3,1,20)))\n",
    "        ]),\n",
    "    Pipeline([\n",
    "            ('ss', StandardScaler()),\n",
    "            ('poly', PolynomialFeatures()),\n",
    "            ('linear', LassoCV(alphas=np.logspace(-3,1,20)))\n",
    "        ])\n",
    "] \n",
    "\n",
    "# 参数字典， 字典中的key是属性的名称，value是可选的参数列表\n",
    "parameters = {\n",
    "    \"poly__degree\": [3,2,1], \n",
    "    \"poly__interaction_only\": [True, False],#不产生交互项，如X1*X1 \n",
    "    \"poly__include_bias\": [True, False],#多项式幂为零的特征作为线性模型中的截距\n",
    "    \"linear__fit_intercept\": [True, False]\n",
    "}\n"
   ]
  },
  {
   "cell_type": "code",
   "execution_count": 8,
   "metadata": {},
   "outputs": [
    {
     "data": {
      "text/plain": [
       "array([[ 1.,  1.,  2.,  2.],\n",
       "       [ 1.,  2.,  3.,  6.],\n",
       "       [ 1.,  3.,  4., 12.],\n",
       "       [ 1.,  4.,  4., 16.],\n",
       "       [ 1.,  5.,  5., 25.]])"
      ]
     },
     "execution_count": 8,
     "metadata": {},
     "output_type": "execute_result"
    }
   ],
   "source": [
    "rf=PolynomialFeatures(2,interaction_only=True)\n",
    "a=pd.DataFrame({\n",
    "    'name':[1,2,3,4,5],\n",
    "    'score':[2,3,4,4,5]\n",
    "})\n",
    "b=rf.fit_transform(a)\n",
    "b"
   ]
  },
  {
   "cell_type": "code",
   "execution_count": 9,
   "metadata": {},
   "outputs": [],
   "source": [
    "# 数据分割\n",
    "x_train, x_test, y_train, y_test = train_test_split(x, y, test_size=0.2, random_state=0)"
   ]
  },
  {
   "cell_type": "code",
   "execution_count": null,
   "metadata": {
    "scrolled": false
   },
   "outputs": [
    {
     "name": "stderr",
     "output_type": "stream",
     "text": [
      "D:\\ProgramData\\Anaconda3\\lib\\site-packages\\sklearn\\model_selection\\_search.py:841: DeprecationWarning: The default of the `iid` parameter will change from True to False in version 0.22 and will be removed in 0.24. This will change numeric results when test-set sizes are unequal.\n",
      "  DeprecationWarning)\n",
      "D:\\ProgramData\\Anaconda3\\lib\\site-packages\\sklearn\\model_selection\\_split.py:2053: FutureWarning: You should specify a value for 'cv' instead of relying on the default value. The default value will change from 3 to 5 in version 0.22.\n",
      "  warnings.warn(CV_WARNING, FutureWarning)\n"
     ]
    },
    {
     "name": "stdout",
     "output_type": "stream",
     "text": [
      "Ridge算法:最优参数: {'linear__fit_intercept': True, 'poly__degree': 2, 'poly__include_bias': False, 'poly__interaction_only': True}\n",
      "Ridge算法:R值=0.874\n"
     ]
    },
    {
     "name": "stderr",
     "output_type": "stream",
     "text": [
      "D:\\ProgramData\\Anaconda3\\lib\\site-packages\\sklearn\\model_selection\\_split.py:2053: FutureWarning: You should specify a value for 'cv' instead of relying on the default value. The default value will change from 3 to 5 in version 0.22.\n",
      "  warnings.warn(CV_WARNING, FutureWarning)\n",
      "D:\\ProgramData\\Anaconda3\\lib\\site-packages\\sklearn\\model_selection\\_split.py:2053: FutureWarning: You should specify a value for 'cv' instead of relying on the default value. The default value will change from 3 to 5 in version 0.22.\n",
      "  warnings.warn(CV_WARNING, FutureWarning)\n"
     ]
    }
   ],
   "source": [
    "## Lasso和Ridge模型比较运行图表展示\n",
    "titles = ['Ridge', 'Lasso']\n",
    "colors = ['g-', 'b-']\n",
    "plt.figure(figsize=(16,8), facecolor='w')\n",
    "ln_x_test = range(len(x_test))\n",
    "\n",
    "plt.plot(ln_x_test, y_test, 'r-', lw=2, label=u'真实值')\n",
    "for t in range(2):\n",
    "    # 获取模型并设置参数\n",
    "    # GridSearchCV: 进行交叉验证，选择出最优的参数值出来\n",
    "    # 第一个输入参数：进行参数选择的模型，param_grid： 用于进行模型选择的参数字段，要求是字典类型；cv: 进行几折交叉验证\n",
    "    model = GridSearchCV(models[t], param_grid=parameters,cv=5, n_jobs=1)#五折交叉验证\n",
    "    # 模型训练-网格搜索\n",
    "    model.fit(x_train, y_train)\n",
    "    # 模型效果值获取（最优参数）\n",
    "    print (\"%s算法:最优参数:\" % titles[t],model.best_params_)\n",
    "    print (\"%s算法:R值=%.3f\" % (titles[t], model.best_score_))\n",
    "    # 模型预测\n",
    "    y_predict = model.predict(x_test)\n",
    "    # 画图\n",
    "    plt.plot(ln_x_test, y_predict, colors[t], lw = t + 3, label=u'%s算法估计值,$R^2$=%.3f' % (titles[t],model.best_score_))\n",
    "# 图形显示\n",
    "plt.legend(loc = 'upper left')\n",
    "plt.grid(True)\n",
    "plt.title(u\"波士顿房屋价格预测\")\n",
    "plt.show()"
   ]
  },
  {
   "cell_type": "code",
   "execution_count": null,
   "metadata": {},
   "outputs": [],
   "source": [
    "## 模型训练 ====> 单个Lasso模型（一阶特征选择）<2参数给定1阶情况的最优参数>\n",
    "model = Pipeline([\n",
    "            ('ss', StandardScaler()),\n",
    "            ('poly', PolynomialFeatures(degree=1, include_bias=True, interaction_only=True)),\n",
    "            ('linear', LassoCV(alphas=np.logspace(-3,1,20), fit_intercept=False))\n",
    "        ])\n",
    "# 模型训练\n",
    "model.fit(x_train, y_train)\n",
    "\n",
    "\n",
    "# 模型评测\n",
    "## 数据输出\n",
    "print (\"参数:\", list(zip(names,model.get_params('linear')['linear'].coef_)))\n",
    "print (\"截距:\", model.get_params('linear')['linear'].intercept_)\n",
    "\n"
   ]
  },
  {
   "cell_type": "code",
   "execution_count": null,
   "metadata": {},
   "outputs": [],
   "source": [
    "# L1-norm是可以做特征选择的，主要原因在于：通过Lasso模型训练后，\n",
    "# 有的参数是有可能出现为0的或者接近0的情况； 针对于这一批的特征，可以进行特征的删除操作\n",
    "# df.drop(xx)\n",
    "# NOTE: 自己实现参数值绝对值小于10^-1的所有特征属性删除；要求：不允许明确给定到底删除那一个特征属性\n",
    "# df.drop(['CHAS', 'DIS']) ==> 不允许这样写\n",
    "# 实际工作中，一般情况下，除非低于10^-6才会删除"
   ]
  },
  {
   "cell_type": "code",
   "execution_count": null,
   "metadata": {
    "collapsed": true
   },
   "outputs": [],
   "source": []
  }
 ],
 "metadata": {
  "anaconda-cloud": {},
  "kernelspec": {
   "display_name": "Python 3",
   "language": "python",
   "name": "python3"
  },
  "language_info": {
   "codemirror_mode": {
    "name": "ipython",
    "version": 3
   },
   "file_extension": ".py",
   "mimetype": "text/x-python",
   "name": "python",
   "nbconvert_exporter": "python",
   "pygments_lexer": "ipython3",
   "version": "3.7.1"
  }
 },
 "nbformat": 4,
 "nbformat_minor": 1
}
