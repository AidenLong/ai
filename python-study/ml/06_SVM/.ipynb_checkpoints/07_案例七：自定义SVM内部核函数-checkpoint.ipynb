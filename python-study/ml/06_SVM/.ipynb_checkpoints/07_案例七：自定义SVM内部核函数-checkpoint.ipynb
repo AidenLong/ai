{
 "cells": [
  {
   "cell_type": "code",
   "execution_count": 3,
   "metadata": {
    "collapsed": true
   },
   "outputs": [],
   "source": [
    "import numpy as np\n",
    "import matplotlib as mpl\n",
    "import matplotlib.pyplot as plt\n",
    "from sklearn import svm, datasets"
   ]
  },
  {
   "cell_type": "code",
   "execution_count": 4,
   "metadata": {
    "collapsed": true
   },
   "outputs": [],
   "source": [
    "## 设置属性防止中文乱码\n",
    "mpl.rcParams['font.sans-serif'] = [u'SimHei']\n",
    "mpl.rcParams['axes.unicode_minus'] = False"
   ]
  },
  {
   "cell_type": "code",
   "execution_count": 5,
   "metadata": {
    "collapsed": true
   },
   "outputs": [],
   "source": [
    "## 加载鸢尾花数据\n",
    "iris = datasets.load_iris()\n",
    "## 获取前两列作为特征属性(可以比较一下后两列的效果)\n",
    "X = iris.data[:, :2]\n",
    "Y = iris.target\n"
   ]
  },
  {
   "cell_type": "code",
   "execution_count": null,
   "metadata": {
    "collapsed": false
   },
   "outputs": [],
   "source": [
    "## 自定义一个核函数, 参数x，y是特征属性矩阵（会进行迭代，迭代后类型就会不同）\n",
    "def my_kernel(x, y):\n",
    "    \"\"\"\n",
    "    We create a custom kernel:\n",
    "                 (2  0)\n",
    "    k(x, y) = x  (    ) y.T\n",
    "                 (0  1)\n",
    "    \"\"\"\n",
    "    M = np.array([[2, 0], [0, 1]])\n",
    "    return np.dot(np.dot(x, M), y.T)"
   ]
  },
  {
   "cell_type": "code",
   "execution_count": null,
   "metadata": {
    "collapsed": false,
    "scrolled": true
   },
   "outputs": [],
   "source": [
    "## 使用自定义的核函数创建一个SVM对象\n",
    "clf = svm.SVC(kernel=my_kernel)\n",
    "clf.fit(X, Y)\n",
    "\n",
    "## 评估效果\n",
    "score = clf.score(X,Y)\n",
    "print (\"训练集准确率:%.2f%%\" % (score * 100))\n",
    "\n",
    "## 构建预测网格\n",
    "h = .02 \n",
    "x_min, x_max = X[:, 0].min() - 1, X[:, 0].max() + 1\n",
    "y_min, y_max = X[:, 1].min() - 1, X[:, 1].max() + 1\n",
    "xx, yy = np.meshgrid(np.arange(x_min, x_max, h), np.arange(y_min, y_max, h))\n",
    "## 预测值\n",
    "Z = clf.predict(np.c_[xx.ravel(), yy.ravel()])\n",
    "Z = Z.reshape(xx.shape)\n",
    "\n",
    "cm_light = mpl.colors.ListedColormap(['#A0FFA0', '#FFA0A0', '#A0A0FF'])\n",
    "cm_dark = mpl.colors.ListedColormap(['g', 'r', 'b'])\n",
    "plt.figure(facecolor='w', figsize=(8,4))\n",
    "\n",
    "## 画出区域图\n",
    "plt.pcolormesh(xx, yy, Z, cmap=cm_light)\n",
    "\n",
    "## 画出点图\n",
    "plt.scatter(X[:, 0], X[:, 1], c=Y, cmap=cm_dark)\n",
    "\n",
    "## 设置title及其他相关属性\n",
    "plt.title(u'SVM中自定义核函数')\n",
    "plt.xlim(x_min, x_max)\n",
    "plt.ylim(y_min, y_max)\n",
    "plt.text(x_max - .3, y_min + .3, (u'准确率%.2f%%' % (score * 100)).lstrip('0'),  size=15, horizontalalignment='right')\n",
    "plt.show()"
   ]
  },
  {
   "cell_type": "code",
   "execution_count": null,
   "metadata": {
    "collapsed": true
   },
   "outputs": [],
   "source": []
  }
 ],
 "metadata": {
  "kernelspec": {
   "display_name": "Python 3",
   "language": "python",
   "name": "python3"
  },
  "language_info": {
   "codemirror_mode": {
    "name": "ipython",
    "version": 3
   },
   "file_extension": ".py",
   "mimetype": "text/x-python",
   "name": "python",
   "nbconvert_exporter": "python",
   "pygments_lexer": "ipython3",
   "version": "3.6.0"
  }
 },
 "nbformat": 4,
 "nbformat_minor": 0
}
