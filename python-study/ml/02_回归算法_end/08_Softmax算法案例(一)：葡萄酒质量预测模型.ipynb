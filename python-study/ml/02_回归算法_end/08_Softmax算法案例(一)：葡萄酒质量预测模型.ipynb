{
 "cells": [
  {
   "cell_type": "code",
   "execution_count": 1,
   "metadata": {
    "collapsed": false
   },
   "outputs": [],
   "source": [
    "import numpy as np\n",
    "import matplotlib as mpl\n",
    "import matplotlib.pyplot as plt\n",
    "import pandas as pd\n",
    "import warnings\n",
    "import sklearn\n",
    "from sklearn.linear_model import LogisticRegressionCV\n",
    "from sklearn.linear_model.coordinate_descent import ConvergenceWarning\n",
    "from sklearn.model_selection import train_test_split\n",
    "from sklearn.preprocessing import StandardScaler\n",
    "from sklearn.preprocessing import MinMaxScaler\n",
    "from sklearn.preprocessing import label_binarize\n",
    "from sklearn import metrics"
   ]
  },
  {
   "cell_type": "code",
   "execution_count": 2,
   "metadata": {
    "collapsed": true
   },
   "outputs": [],
   "source": [
    "## 设置字符集，防止中文乱码\n",
    "mpl.rcParams['font.sans-serif']=[u'simHei']\n",
    "mpl.rcParams['axes.unicode_minus']=False\n",
    "## 拦截异常\n",
    "warnings.filterwarnings(action = 'ignore', category=ConvergenceWarning)"
   ]
  },
  {
   "cell_type": "code",
   "execution_count": 3,
   "metadata": {
    "collapsed": false
   },
   "outputs": [
    {
     "data": {
      "text/html": [
       "<div>\n",
       "<table border=\"1\" class=\"dataframe\">\n",
       "  <thead>\n",
       "    <tr style=\"text-align: right;\">\n",
       "      <th></th>\n",
       "      <th>fixed acidity</th>\n",
       "      <th>volatile acidity</th>\n",
       "      <th>citric acid</th>\n",
       "      <th>residual sugar</th>\n",
       "      <th>chlorides</th>\n",
       "      <th>free sulfur dioxide</th>\n",
       "      <th>total sulfur dioxide</th>\n",
       "      <th>density</th>\n",
       "      <th>pH</th>\n",
       "      <th>sulphates</th>\n",
       "      <th>alcohol</th>\n",
       "      <th>quality</th>\n",
       "      <th>type</th>\n",
       "    </tr>\n",
       "  </thead>\n",
       "  <tbody>\n",
       "    <tr>\n",
       "      <th>0</th>\n",
       "      <td>7.4</td>\n",
       "      <td>0.70</td>\n",
       "      <td>0.00</td>\n",
       "      <td>1.9</td>\n",
       "      <td>0.076</td>\n",
       "      <td>11.0</td>\n",
       "      <td>34.0</td>\n",
       "      <td>0.9978</td>\n",
       "      <td>3.51</td>\n",
       "      <td>0.56</td>\n",
       "      <td>9.4</td>\n",
       "      <td>5</td>\n",
       "      <td>1</td>\n",
       "    </tr>\n",
       "    <tr>\n",
       "      <th>1</th>\n",
       "      <td>7.8</td>\n",
       "      <td>0.88</td>\n",
       "      <td>0.00</td>\n",
       "      <td>2.6</td>\n",
       "      <td>0.098</td>\n",
       "      <td>25.0</td>\n",
       "      <td>67.0</td>\n",
       "      <td>0.9968</td>\n",
       "      <td>3.20</td>\n",
       "      <td>0.68</td>\n",
       "      <td>9.8</td>\n",
       "      <td>5</td>\n",
       "      <td>1</td>\n",
       "    </tr>\n",
       "    <tr>\n",
       "      <th>2</th>\n",
       "      <td>7.8</td>\n",
       "      <td>0.76</td>\n",
       "      <td>0.04</td>\n",
       "      <td>2.3</td>\n",
       "      <td>0.092</td>\n",
       "      <td>15.0</td>\n",
       "      <td>54.0</td>\n",
       "      <td>0.9970</td>\n",
       "      <td>3.26</td>\n",
       "      <td>0.65</td>\n",
       "      <td>9.8</td>\n",
       "      <td>5</td>\n",
       "      <td>1</td>\n",
       "    </tr>\n",
       "    <tr>\n",
       "      <th>3</th>\n",
       "      <td>11.2</td>\n",
       "      <td>0.28</td>\n",
       "      <td>0.56</td>\n",
       "      <td>1.9</td>\n",
       "      <td>0.075</td>\n",
       "      <td>17.0</td>\n",
       "      <td>60.0</td>\n",
       "      <td>0.9980</td>\n",
       "      <td>3.16</td>\n",
       "      <td>0.58</td>\n",
       "      <td>9.8</td>\n",
       "      <td>6</td>\n",
       "      <td>1</td>\n",
       "    </tr>\n",
       "    <tr>\n",
       "      <th>4</th>\n",
       "      <td>7.4</td>\n",
       "      <td>0.70</td>\n",
       "      <td>0.00</td>\n",
       "      <td>1.9</td>\n",
       "      <td>0.076</td>\n",
       "      <td>11.0</td>\n",
       "      <td>34.0</td>\n",
       "      <td>0.9978</td>\n",
       "      <td>3.51</td>\n",
       "      <td>0.56</td>\n",
       "      <td>9.4</td>\n",
       "      <td>5</td>\n",
       "      <td>1</td>\n",
       "    </tr>\n",
       "  </tbody>\n",
       "</table>\n",
       "</div>"
      ],
      "text/plain": [
       "   fixed acidity  volatile acidity  citric acid  residual sugar  chlorides  \\\n",
       "0            7.4              0.70         0.00             1.9      0.076   \n",
       "1            7.8              0.88         0.00             2.6      0.098   \n",
       "2            7.8              0.76         0.04             2.3      0.092   \n",
       "3           11.2              0.28         0.56             1.9      0.075   \n",
       "4            7.4              0.70         0.00             1.9      0.076   \n",
       "\n",
       "   free sulfur dioxide  total sulfur dioxide  density    pH  sulphates  \\\n",
       "0                 11.0                  34.0   0.9978  3.51       0.56   \n",
       "1                 25.0                  67.0   0.9968  3.20       0.68   \n",
       "2                 15.0                  54.0   0.9970  3.26       0.65   \n",
       "3                 17.0                  60.0   0.9980  3.16       0.58   \n",
       "4                 11.0                  34.0   0.9978  3.51       0.56   \n",
       "\n",
       "   alcohol  quality  type  \n",
       "0      9.4        5     1  \n",
       "1      9.8        5     1  \n",
       "2      9.8        5     1  \n",
       "3      9.8        6     1  \n",
       "4      9.4        5     1  "
      ]
     },
     "execution_count": 3,
     "metadata": {},
     "output_type": "execute_result"
    }
   ],
   "source": [
    "## 读取数据\n",
    "path1 = \"datas/winequality-red.csv\"\n",
    "df1 = pd.read_csv(path1, sep=\";\")\n",
    "df1['type'] = 1 # 设置数据类型为红葡萄酒\n",
    "\n",
    "path2 = \"datas/winequality-white.csv\"\n",
    "df2 = pd.read_csv(path2, sep=\";\")\n",
    "df2['type'] = 2 # 设置数据类型为白葡萄酒\n",
    "\n",
    "# 合并两个df\n",
    "df = pd.concat([df1,df2], axis=0)\n",
    "\n",
    "## 自变量名称\n",
    "names = [\"fixed acidity\",\"volatile acidity\",\"citric acid\",\n",
    "         \"residual sugar\",\"chlorides\",\"free sulfur dioxide\",\n",
    "         \"total sulfur dioxide\",\"density\",\"pH\",\"sulphates\",\n",
    "         \"alcohol\", \"type\"]\n",
    "## 因变量名称\n",
    "quality = \"quality\"\n",
    "\n",
    "## 显示\n",
    "df.head(5)\n"
   ]
  },
  {
   "cell_type": "code",
   "execution_count": 4,
   "metadata": {
    "collapsed": false
   },
   "outputs": [
    {
     "name": "stdout",
     "output_type": "stream",
     "text": [
      "原始数据条数:6497；异常数据处理后数据条数:6497；异常数据条数:0\n"
     ]
    }
   ],
   "source": [
    "## 异常数据处理\n",
    "new_df = df.replace('?', np.nan)\n",
    "datas = new_df.dropna(how = 'any') # 只要有列为空，就进行删除操作\n",
    "print (\"原始数据条数:%d；异常数据处理后数据条数:%d；异常数据条数:%d\" % (len(df), len(datas), len(df) - len(datas)))\n",
    "\n",
    "## 提取自变量和因变量\n",
    "X = datas[names]\n",
    "Y = datas[quality]"
   ]
  },
  {
   "cell_type": "code",
   "execution_count": 5,
   "metadata": {
    "collapsed": false
   },
   "outputs": [
    {
     "name": "stdout",
     "output_type": "stream",
     "text": [
      "训练数据条数:4872；数据特征个数:12；测试数据条数:1625\n"
     ]
    }
   ],
   "source": [
    "## 数据分割\n",
    "X_train,X_test,Y_train,Y_test = train_test_split(X,Y,test_size=0.25,random_state=0)\n",
    "\n",
    "print (\"训练数据条数:%d；数据特征个数:%d；测试数据条数:%d\" % (X_train.shape[0], X_train.shape[1], X_test.shape[0]))"
   ]
  },
  {
   "cell_type": "code",
   "execution_count": 6,
   "metadata": {
    "collapsed": false
   },
   "outputs": [],
   "source": [
    "# 2. 数据格式化(归一化)\n",
    "ss = MinMaxScaler()\n",
    "X_train = ss.fit_transform(X_train) ## 训练模型及归一化数据"
   ]
  },
  {
   "cell_type": "code",
   "execution_count": 7,
   "metadata": {
    "collapsed": false
   },
   "outputs": [
    {
     "data": {
      "text/plain": [
       "6    2132\n",
       "5    1606\n",
       "7     805\n",
       "4     161\n",
       "8     146\n",
       "3      20\n",
       "9       2\n",
       "Name: quality, dtype: int64"
      ]
     },
     "execution_count": 7,
     "metadata": {},
     "output_type": "execute_result"
    }
   ],
   "source": [
    "## 查看y值的范围和数理\n",
    "Y_train.value_counts()"
   ]
  },
  {
   "cell_type": "code",
   "execution_count": 8,
   "metadata": {
    "collapsed": false,
    "scrolled": true
   },
   "outputs": [
    {
     "name": "stderr",
     "output_type": "stream",
     "text": [
      "C:\\Anaconda3\\lib\\site-packages\\sklearn\\model_selection\\_split.py:581: Warning: The least populated class in y has only 2 members, which is too few. The minimum number of groups for any class cannot be less than n_splits=3.\n",
      "  % (min_groups, self.n_splits)), Warning)\n"
     ]
    },
    {
     "data": {
      "text/plain": [
       "LogisticRegressionCV(Cs=array([1.00000e-05, 1.14976e-05, ..., 8.69749e+00, 1.00000e+01]),\n",
       "           class_weight=None, cv=None, dual=False, fit_intercept=True,\n",
       "           intercept_scaling=1.0, max_iter=100, multi_class='multinomial',\n",
       "           n_jobs=1, penalty='l2', random_state=None, refit=True,\n",
       "           scoring=None, solver='lbfgs', tol=0.0001, verbose=0)"
      ]
     },
     "execution_count": 8,
     "metadata": {},
     "output_type": "execute_result"
    }
   ],
   "source": [
    "# 3. 模型构建及训练\n",
    "## penalty: 过拟合解决参数,l1或者l2\n",
    "\n",
    "## solver: 参数优化方式\n",
    "### 当penalty为l1的时候，参数只能是：liblinear(坐标轴下降法)；\n",
    "### 当penalty为l2的时候，参数可以是：lbfgs(拟牛顿法)、newton-cg(牛顿法变种)\n",
    "\n",
    "## multi_class: 分类方式参数；参数可选: ovr(默认)、multinomial；这两种方式在二元分类问题中，效果是一样的；在多元分类问题中，效果不一样\n",
    "### ovr: one-vs-rest， 对于多元分类的问题，先将其看做二元分类，分类完成后，再迭代对其中一类继续进行二元分类\n",
    "### multinomial: many-vs-many（MVM）,对于多元分类问题，如果模型有T类，我们每次在所有的T类样本里面选择两类样本出来，\n",
    "#### 不妨记为T1类和T2类，把所有的输出为T1和T2的样本放在一起，把T1作为正例，T2作为负例，\n",
    "#### 进行二元逻辑回归，得到模型参数。我们一共需要T(T-1)/2次分类\n",
    "\n",
    "## class_weight: 特征权重参数\n",
    "\n",
    "### Softmax算法相对于Logistic算法来讲，在sklearn中体现的代码形式来讲，主要只是参数的不同而已\n",
    "## Logistic算法回归(二分类): 使用的是ovr；如果是softmax回归，建议使用multinomial\n",
    "lr = LogisticRegressionCV(fit_intercept=True, Cs=np.logspace(-5, 1, 100), \n",
    "                          multi_class='multinomial', penalty='l2', solver='lbfgs')\n",
    "lr.fit(X_train, Y_train)"
   ]
  },
  {
   "cell_type": "code",
   "execution_count": 9,
   "metadata": {
    "collapsed": false,
    "scrolled": true
   },
   "outputs": [
    {
     "name": "stdout",
     "output_type": "stream",
     "text": [
      "R值： 0.5496715927750411\n",
      "特征稀疏化比率：0.00%\n",
      "参数： [[ 0.9730127   2.16084285 -0.41754754 -0.49107226  0.90062986  1.4392444\n",
      "   0.75285349  0.23015819  0.00696097 -0.69411951 -0.71662184 -0.29344398]\n",
      " [ 0.62645663  5.12629124 -0.38350372 -2.1611902   1.21085251 -3.71460614\n",
      "  -1.45924414  1.33501236  0.33882333 -0.86777815 -2.74856763  2.03150322]\n",
      " [-1.73734378  1.95681945  0.48966012 -1.91168338  0.64512953 -1.67662964\n",
      "   2.20493483  1.49022497 -1.3581056  -2.23627334 -5.01448694 -0.75503315]\n",
      " [-1.19653545 -2.61094004 -0.34375325  0.17322861 -0.04192244  0.8170301\n",
      "  -0.28178849  0.51768511 -0.67621769  0.185218    0.01886649 -0.71342696]\n",
      " [ 1.15776936 -4.66419    -0.30888948  2.21347594 -2.00208967  1.66891233\n",
      "  -1.02875476 -2.14504321  0.80606712  2.68429533  3.36550273 -0.73559995]\n",
      " [-0.07708272 -1.8260927   0.69470163  2.0761507  -0.6231927   1.49048446\n",
      "  -0.15842754 -1.36420613  0.72475406  1.06822926  4.69108042  0.04776849]\n",
      " [ 0.25372326 -0.1427308   0.26933225  0.10109059 -0.08940709 -0.02443551\n",
      "  -0.02957338 -0.06383129  0.15771782 -0.13957159  0.40422677  0.41823233]]\n",
      "截距： [-2.33409277 -1.16759486  4.90906789  4.31851264  1.29806235 -2.26232821\n",
      " -4.76162703]\n"
     ]
    }
   ],
   "source": [
    "# 4. 模型效果获取\n",
    "r = lr.score(X_train, Y_train)\n",
    "print(\"R值：\", r)\n",
    "print(\"特征稀疏化比率：%.2f%%\" % (np.mean(lr.coef_.ravel() == 0) * 100))\n",
    "print(\"参数：\",lr.coef_)\n",
    "print(\"截距：\",lr.intercept_)"
   ]
  },
  {
   "cell_type": "code",
   "execution_count": 10,
   "metadata": {
    "collapsed": true
   },
   "outputs": [],
   "source": [
    "# 数据预测\n",
    "## a. 预测数据格式化(归一化)\n",
    "X_test = ss.transform(X_test) # 使用模型进行归一化操作\n",
    "## b. 结果数据预测\n",
    "Y_predict = lr.predict(X_test)"
   ]
  },
  {
   "cell_type": "code",
   "execution_count": 11,
   "metadata": {
    "collapsed": false
   },
   "outputs": [
    {
     "data": {
      "image/png": "[encoded data removed]",
      "text/plain": [
       "<matplotlib.figure.Figure at 0xce6ae81cc0>"
      ]
     },
     "metadata": {},
     "output_type": "display_data"
    }
   ],
   "source": [
    "## c. 图表展示\n",
    "x_len = range(len(X_test))\n",
    "plt.figure(figsize=(14,7), facecolor='w')\n",
    "plt.ylim(-1,11)\n",
    "plt.plot(x_len, Y_test, 'ro',markersize = 8, zorder=3, label=u'真实值')\n",
    "plt.plot(x_len, Y_predict, 'go', markersize = 12, zorder=2, label=u'预测值,$R^2$=%.3f' % lr.score(X_train, Y_train))\n",
    "plt.legend(loc = 'upper left')\n",
    "plt.xlabel(u'数据编号', fontsize=18)\n",
    "plt.ylabel(u'葡萄酒质量', fontsize=18)\n",
    "plt.title(u'葡萄酒质量预测统计', fontsize=20)\n",
    "plt.show()"
   ]
  },
  {
   "cell_type": "code",
   "execution_count": 12,
   "metadata": {
    "collapsed": false,
    "scrolled": true
   },
   "outputs": [
    {
     "data": {
      "text/plain": [
       "[0, 0, 0, 30, 216, 2138, 2836, 1079, 193, 5, 0]"
      ]
     },
     "execution_count": 12,
     "metadata": {},
     "output_type": "execute_result"
    }
   ],
   "source": [
    "# 查看数据分布情况\n",
    "[len(df[df.quality == i]) for i in range(11)]"
   ]
  },
  {
   "cell_type": "code",
   "execution_count": 13,
   "metadata": {
    "collapsed": false
   },
   "outputs": [
    {
     "data": {
      "text/plain": [
       "6    2836\n",
       "5    2138\n",
       "7    1079\n",
       "4     216\n",
       "8     193\n",
       "3      30\n",
       "9       5\n",
       "Name: quality, dtype: int64"
      ]
     },
     "execution_count": 13,
     "metadata": {},
     "output_type": "execute_result"
    }
   ],
   "source": [
    "df.quality.value_counts()"
   ]
  },
  {
   "cell_type": "code",
   "execution_count": 14,
   "metadata": {
    "collapsed": false
   },
   "outputs": [
    {
     "name": "stdout",
     "output_type": "stream",
     "text": [
      "训练数据条数:6334；数据特征个数:12；测试数据条数:163\n",
      "R值： 0.474581622987054\n",
      "特征稀疏化比率：0.00%\n",
      "参数： [[ 1.83665234e+00  1.68754027e+00 -4.54960200e-01  1.35267901e+00\n",
      "   1.48088307e-01 -1.06581867e-01 -2.62944178e+00  1.92061183e-01\n",
      "   9.71544111e-01 -2.69208412e-01 -9.54927439e-01  2.29745176e-01]\n",
      " [-9.49954179e-01  3.96410989e+00 -1.97875161e+00 -2.37528535e+00\n",
      "   4.01692711e-02 -6.37098544e+00  6.34717519e-01  1.03959269e+00\n",
      "   4.08898017e+00 -1.05481918e+00  2.05168934e+00  3.25615465e+00]\n",
      " [ 7.32900122e+00  1.46635971e+01 -6.24258994e+00  6.93092140e-01\n",
      "   1.65606592e+00 -1.11407013e+00 -1.06475266e+00  6.45368092e+00\n",
      "   2.40401395e+01 -8.14432712e-01 -1.52838520e+01 -7.23112718e+00]\n",
      " [ 2.24635843e+00 -7.25270023e+00  2.09317126e+00  1.54781747e+00\n",
      "  -3.07393621e-01  1.81767846e+00  9.06321863e-01 -1.05792279e+00\n",
      "  -4.25452276e+00  1.45802718e+00 -2.85391849e-01  1.71224966e+00]\n",
      " [-2.39287006e+00 -1.12607963e+01  5.61321987e+00 -1.39336662e+00\n",
      "  -1.20336374e+00  2.30703722e+00  1.05196145e+00 -5.32527563e+00\n",
      "  -1.99803429e+01  1.12962582e+00  9.71354551e+00  1.24704400e+00]\n",
      " [-7.22971408e+00 -1.72558497e+00  9.69695981e-01  7.52138442e-01\n",
      "  -3.13020122e-01  2.69114764e+00  6.62990263e-01 -1.18879221e+00\n",
      "  -4.52598683e+00 -3.56091452e-01  5.35285308e+00  7.96619372e-01]\n",
      " [-8.39473668e-01 -7.61657151e-02  2.14633598e-04 -5.77075103e-01\n",
      "  -2.05460200e-02  7.75774127e-01  4.38203337e-01 -1.13344161e-01\n",
      "  -3.39811310e-01 -9.31012474e-02 -5.93916626e-01 -1.06856859e-02]]\n",
      "截距： [ 0.22172874  0.50065992  3.82306117  1.15641741 -0.13241679 -1.38506798\n",
      " -4.18438247]\n"
     ]
    },
    {
     "data": {
      "image/png": "[encoded data removed]",
      "text/plain": [
       "<matplotlib.figure.Figure at 0xce5dfe9ac8>"
      ]
     },
     "metadata": {},
     "output_type": "display_data"
    }
   ],
   "source": [
    "### 对数据进行降维处理后建模，查看效果：使用PCA讲维（有时候进行特征抽取和数据降维对于模型的算法是没有太好的改进的）\n",
    "from sklearn.preprocessing import MinMaxScaler\n",
    "from sklearn.decomposition import PCA\n",
    "from sklearn.feature_selection import SelectKBest\n",
    "from sklearn.feature_selection import chi2\n",
    "from sklearn.preprocessing import Normalizer\n",
    "\n",
    "## 数据分割\n",
    "X1_train,X1_test,Y1_train,Y1_test = train_test_split(X,Y,test_size=0.025,random_state=0)\n",
    "print (\"训练数据条数:%d；数据特征个数:%d；测试数据条数:%d\" % (X1_train.shape[0], X1_train.shape[1], X1_test.shape[0]))\n",
    "\n",
    "## 数据特征转换(归一化)\n",
    "## 数据格式化(归一化)\n",
    "ss2 = Normalizer()\n",
    "X1_train = ss2.fit_transform(X1_train) ## 训练模型及归一化数据\n",
    "\n",
    "## 特征选择\n",
    "#skb = SelectKBest(chi2, k=3) ## 只考虑3个维度\n",
    "#X1_train = skb.fit_transform(X1_train, Y1_train) ## 训练模型及特征选择\n",
    "\n",
    "## 降维\n",
    "#pca = PCA(n_components=5) ## 将样本数据维度降低成为2个维度\n",
    "#X1_train = pca.fit_transform(X1_train)\n",
    "#print \"贡献率:\", pca.explained_variance_\n",
    "\n",
    "\n",
    "## 模型构建\n",
    "lr2 = LogisticRegressionCV(fit_intercept=True, Cs=np.logspace(-5, 1, 100), \n",
    "                          multi_class='multinomial', penalty='l2', solver='lbfgs')\n",
    "lr2.fit(X1_train, Y1_train)\n",
    "\n",
    "## 模型效果输出\n",
    "r = lr2.score(X1_train, Y1_train)\n",
    "print (\"R值：\", r)\n",
    "print (\"特征稀疏化比率：%.2f%%\" % (np.mean(lr2.coef_.ravel() == 0) * 100))\n",
    "print (\"参数：\",lr2.coef_)\n",
    "print (\"截距：\",lr2.intercept_)\n",
    "\n",
    "## 数据预测\n",
    "## a. 预测数据格式化(归一化)\n",
    "X1_test = ss2.transform(X1_test) ## 测试数据归一化\n",
    "#X1_test = skb.transform(X1_test) ## 测试数据特征选择\n",
    "#X1_test = pca.fit_transform(X1_test) ## 测试数据降维\n",
    "\n",
    "## b. 结果数据预测\n",
    "Y1_predict = lr2.predict(X1_test)\n",
    "\n",
    "## 图表展示\n",
    "## c. 图表展示\n",
    "x1_len = range(len(X1_test))\n",
    "plt.figure(figsize=(14,7), facecolor='w')\n",
    "plt.ylim(-1,11)\n",
    "plt.plot(x1_len, Y1_test, 'ro',markersize = 8, zorder=3, label=u'真实值')\n",
    "plt.plot(x1_len, Y1_predict, 'go', markersize = 12, zorder=2, label=u'预测值,$R^2$=%.3f' % lr2.score(X1_train, Y1_train))\n",
    "plt.legend(loc = 'upper left')\n",
    "plt.xlabel(u'数据编号', fontsize=18)\n",
    "plt.ylabel(u'葡萄酒质量', fontsize=18)\n",
    "plt.title(u'葡萄酒质量预测统计(降维处理)', fontsize=20)\n",
    "plt.show()"
   ]
  },
  {
   "cell_type": "code",
   "execution_count": null,
   "metadata": {
    "collapsed": true
   },
   "outputs": [],
   "source": []
  }
 ],
 "metadata": {
  "anaconda-cloud": {},
  "kernelspec": {
   "display_name": "Python 3",
   "language": "python",
   "name": "python3"
  },
  "language_info": {
   "codemirror_mode": {
    "name": "ipython",
    "version": 3
   },
   "file_extension": ".py",
   "mimetype": "text/x-python",
   "name": "python",
   "nbconvert_exporter": "python",
   "pygments_lexer": "ipython3",
   "version": "3.6.0"
  }
 },
 "nbformat": 4,
 "nbformat_minor": 0
}
