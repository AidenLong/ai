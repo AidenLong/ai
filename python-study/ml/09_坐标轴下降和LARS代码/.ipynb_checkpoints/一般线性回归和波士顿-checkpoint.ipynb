{
 "cells": [
  {
   "cell_type": "code",
   "execution_count": 1,
   "metadata": {
    "collapsed": false
   },
   "outputs": [],
   "source": [
    "from sklearn.model_selection import train_test_split\n",
    "from sklearn import datasets,linear_model\n",
    "from sklearn.metrics import mean_squared_error, r2_score\n",
    "from sklearn.preprocessing import StandardScaler\n",
    "import numpy as np\n",
    "import pandas as pd\n",
    "from pandas import DataFrame"
   ]
  },
  {
   "cell_type": "code",
   "execution_count": 2,
   "metadata": {
    "collapsed": false
   },
   "outputs": [
    {
     "name": "stdout",
     "output_type": "stream",
     "text": [
      "dict_keys(['data', 'target'])\n",
      "442 \n",
      " 10\n"
     ]
    }
   ],
   "source": [
    "#加载数据集合\n",
    "data =datasets.load_diabetes()\n",
    "print(data.keys())\n",
    "n_samples, n_features = data.data.shape\n",
    "print(n_samples,\"\\n\",n_features)"
   ]
  },
  {
   "cell_type": "code",
   "execution_count": 4,
   "metadata": {
    "collapsed": false
   },
   "outputs": [],
   "source": [
    "#数据存储到本地\n",
    "outputfile = \"E:\\py\\diabetes.xlsx\"\n",
    "#column = list(data['data'])\n",
    "df = pd.DataFrame(data.data,index=range(442),columns= [\"A\",\"B\",\"C\",\"D\",\"E\",\"F\",\"G\",\"H\",\"I\",\"J\"])\n",
    "pf = pd.DataFrame(data.target,index=range(442),columns=['outcome'])\n",
    "\n",
    "jj = df.join(pf,how='outer')#用到DataFrame的合并方法，将data.data数据与data.target数据合并\n",
    "#数据保存\n",
    "jj.to_excel(outputfile)"
   ]
  },
  {
   "cell_type": "code",
   "execution_count": 5,
   "metadata": {
    "collapsed": false
   },
   "outputs": [],
   "source": [
    "#读取数据，并对数据做类型转换\n",
    "data1=pd.read_excel(\"E:\\py\\diabetes.xlsx\")\n",
    "data1[:-1]=data1[:].astype(float)"
   ]
  },
  {
   "cell_type": "code",
   "execution_count": 6,
   "metadata": {
    "collapsed": false
   },
   "outputs": [
    {
     "name": "stdout",
     "output_type": "stream",
     "text": [
      "<class 'pandas.core.frame.DataFrame'>\n",
      "Int64Index: 442 entries, 0 to 441\n",
      "Data columns (total 11 columns):\n",
      "A          442 non-null float64\n",
      "B          442 non-null float64\n",
      "C          442 non-null float64\n",
      "D          442 non-null float64\n",
      "E          442 non-null float64\n",
      "F          442 non-null float64\n",
      "G          442 non-null float64\n",
      "H          442 non-null float64\n",
      "I          442 non-null float64\n",
      "J          442 non-null float64\n",
      "outcome    442 non-null float64\n",
      "dtypes: float64(11)\n",
      "memory usage: 41.4 KB\n"
     ]
    }
   ],
   "source": [
    "#数据基本信息\n",
    "data1.info()"
   ]
  },
  {
   "cell_type": "code",
   "execution_count": 7,
   "metadata": {
    "collapsed": false
   },
   "outputs": [
    {
     "name": "stdout",
     "output_type": "stream",
     "text": [
      "(353, 10) (89, 10) (353,) (89,)\n"
     ]
    }
   ],
   "source": [
    "#划分自变量和因变量，测试集和训练集\n",
    "X=data1.iloc[:,0:10]\n",
    "Y=data1[\"outcome\"]\n",
    "X_train,X_test,Y_train,Y_test = train_test_split(X,Y,test_size=0.2)#random_state=0，影响每次选择的测试集合，不加随机，每次实验都会变化\n",
    "print(X_train.shape,X_test.shape,Y_train.shape,Y_test.shape)\n"
   ]
  },
  {
   "cell_type": "code",
   "execution_count": 8,
   "metadata": {
    "collapsed": false
   },
   "outputs": [
    {
     "name": "stdout",
     "output_type": "stream",
     "text": [
      "截距w0: 153.992935998 \n",
      " 系数wi： [ -41.39075918 -249.25486435  493.26244751  390.18267693 -602.25586464\n",
      "  386.0568044    36.57824806  164.04235949  679.00525836   57.34184817]\n",
      "*准确率R2: 0.406696440945\n",
      "R2: 0.514275575659\n",
      "MSE= 3085.17730865\n"
     ]
    }
   ],
   "source": [
    "#训练模型\n",
    "LR=linear_model.LinearRegression()\n",
    "LR.fit(X_train,Y_train)\n",
    "print(\"截距w0:\",LR.intercept_ ,\"\\n\",\"系数wi：\",LR.coef_)\n",
    "Y_pred =LR.predict(X_test)\n",
    "#计算R^2的值\n",
    "print(\"*准确率R2:\",r2_score(Y_test,Y_pred))\n",
    "print(\"R2:\",LR.score(X,Y))\n",
    "#计算均方差np.mean计算均值，average可以加权重算均值\n",
    "print(\"MSE=\",mean_squared_error(Y_test,Y_pred))"
   ]
  },
  {
   "cell_type": "code",
   "execution_count": 9,
   "metadata": {
    "collapsed": false
   },
   "outputs": [
    {
     "name": "stdout",
     "output_type": "stream",
     "text": [
      ".(22,) (13, 22)\n"
     ]
    },
    {
     "data": {
      "image/png": "[encoded data removed]",
      "text/plain": [
       "<matplotlib.figure.Figure at 0x169bb943080>"
      ]
     },
     "metadata": {},
     "output_type": "display_data"
    }
   ],
   "source": [
    "#波士顿房价数据回归,没有标准化，图像比较异常\n",
    "boston=datasets.load_boston()\n",
    "X = boston.data\n",
    "y = boston.target\n",
    "LR=linear_model.LassoLars(alpha=0.01)\n",
    "LR.fit(X, y)\n",
    "y_pred = LR.predict(X)\n",
    "LR.score(X,y)\n",
    "alpha,order,coefs=linear_model.lars_path(X, y, method='lasso', verbose=True)\n",
    "print(alpha.shape,coefs.shape)\n",
    "xx = np.sum(np.abs(coefs), axis=0)\n",
    "import matplotlib.pyplot as plt\n",
    "plt.plot(xx, coefs.T,linestyle='--')\n",
    "ymin, ymax = plt.ylim()\n",
    "plt.xlabel('sum(|coef|)')\n",
    "plt.ylabel('Coefficients')\n",
    "plt.title('LASSO Path')\n",
    "plt.axis('tight')\n",
    "plt.show()\n",
    "\n"
   ]
  }
 ],
 "metadata": {
  "kernelspec": {
   "display_name": "Python 3",
   "language": "python",
   "name": "python3"
  },
  "language_info": {
   "codemirror_mode": {
    "name": "ipython",
    "version": 3
   },
   "file_extension": ".py",
   "mimetype": "text/x-python",
   "name": "python",
   "nbconvert_exporter": "python",
   "pygments_lexer": "ipython3",
   "version": "3.6.0"
  }
 },
 "nbformat": 4,
 "nbformat_minor": 2
}
