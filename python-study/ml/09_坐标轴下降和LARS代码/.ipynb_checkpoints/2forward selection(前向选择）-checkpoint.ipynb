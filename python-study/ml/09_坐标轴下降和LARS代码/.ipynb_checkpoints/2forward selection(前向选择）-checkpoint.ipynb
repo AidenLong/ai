{
 "cells": [
  {
   "cell_type": "code",
   "execution_count": 1,
   "metadata": {
    "collapsed": true
   },
   "outputs": [],
   "source": [
    "import numpy as np\n",
    "import pandas as pd"
   ]
  },
  {
   "cell_type": "code",
   "execution_count": 2,
   "metadata": {
    "collapsed": false
   },
   "outputs": [
    {
     "data": {
      "text/html": [
       "<div>\n",
       "<table border=\"1\" class=\"dataframe\">\n",
       "  <thead>\n",
       "    <tr style=\"text-align: right;\">\n",
       "      <th></th>\n",
       "      <th>0</th>\n",
       "      <th>1</th>\n",
       "    </tr>\n",
       "  </thead>\n",
       "  <tbody>\n",
       "    <tr>\n",
       "      <th>0</th>\n",
       "      <td>0.55470</td>\n",
       "      <td>-0.707107</td>\n",
       "    </tr>\n",
       "    <tr>\n",
       "      <th>1</th>\n",
       "      <td>0.83205</td>\n",
       "      <td>0.707107</td>\n",
       "    </tr>\n",
       "  </tbody>\n",
       "</table>\n",
       "</div>"
      ],
      "text/plain": [
       "         0         1\n",
       "0  0.55470 -0.707107\n",
       "1  0.83205  0.707107"
      ]
     },
     "execution_count": 2,
     "metadata": {},
     "output_type": "execute_result"
    }
   ],
   "source": [
    "#输入系数矩阵（X和Y）\n",
    "X=pd.DataFrame([[2.0,-1.0],[3.0,1.0]])\n",
    "Y=pd.Series([2.0,1.0])\n",
    "#特征列单位化（长度是1）\n",
    "a = lambda x : x/np.sqrt(np.dot(x,x))\n",
    "X[0] =a(X.iloc[:,0])\n",
    "X[1] =a(X.iloc[:,1])\n",
    "X"
   ]
  },
  {
   "cell_type": "code",
   "execution_count": 3,
   "metadata": {
    "collapsed": false
   },
   "outputs": [
    {
     "data": {
      "text/plain": [
       "0    0.923077\n",
       "1   -0.615385\n",
       "dtype: float64"
      ]
     },
     "execution_count": 3,
     "metadata": {},
     "output_type": "execute_result"
    }
   ],
   "source": [
    "#计算相关系数\n",
    "w = lambda x,Y :np.dot(x,Y)\n",
    "\n",
    "#初始残差\n",
    "Yres=Y\n",
    "XX=pd.DataFrame()\n",
    "#选择相关系数最大的特征列\n",
    "if w(X[0],Yres)> w(X[1],Yres):\n",
    "    w0=0 \n",
    "else :\n",
    "    w0=1\n",
    "#获取最大相关系数\n",
    "W0=w(X[w0],Yres)\n",
    "#第一个特征\n",
    "XX=XX.append(X[w0])\n",
    "print(X[w0])\n",
    "#新的残差\n",
    "Yres=Yres-W0*X[w0]\n",
    "#剩余的特征\n",
    "Yres\n"
   ]
  },
  {
   "cell_type": "code",
   "execution_count": 4,
   "metadata": {
    "collapsed": false,
    "scrolled": true
   },
   "outputs": [
    {
     "name": "stdout",
     "output_type": "stream",
     "text": [
      "最终的残差： 0    0.153846\n",
      "1    0.153846\n",
      "dtype: float64 误差距离： 0.217571317288\n",
      "系数W: [1.9414506867883019, -1.0878565864408425] \n",
      " 对应的X：           0         1\n",
      "0  0.554700  0.832050\n",
      "1 -0.707107  0.707107\n"
     ]
    }
   ],
   "source": [
    "XX=XX.append(X[1])\n",
    "#第二轮\n",
    "W1=w(X[1],Yres)\n",
    "#最终残差\n",
    "Yres=Yres-W1*X[1]\n",
    "Y_=np.sqrt(np.dot(Yres,Yres))\n",
    "#系数\n",
    "W=[W0,W1]\n",
    "\n",
    "print(\"最终的残差：\",Yres,\"误差距离：\",Y_)\n",
    "print(\"系数W:\",W,\"\\n\",\"对应的X：\",XX)"
   ]
  },
  {
   "cell_type": "code",
   "execution_count": 5,
   "metadata": {
    "collapsed": false
   },
   "outputs": [
    {
     "data": {
      "text/plain": [
       "0.53846153846153844"
      ]
     },
     "execution_count": 5,
     "metadata": {},
     "output_type": "execute_result"
    }
   ],
   "source": [
    "W0/np.sqrt(4+9)"
   ]
  },
  {
   "cell_type": "code",
   "execution_count": 6,
   "metadata": {
    "collapsed": false
   },
   "outputs": [
    {
     "data": {
      "text/plain": [
       "-0.76923076923076927"
      ]
     },
     "execution_count": 6,
     "metadata": {},
     "output_type": "execute_result"
    }
   ],
   "source": [
    "W1/np.sqrt(1+1)"
   ]
  },
  {
   "cell_type": "markdown",
   "metadata": {
    "collapsed": true
   },
   "source": [
    "# 这里前向选择算法结果，是坐标下降算法的第一次迭代的结果。"
   ]
  }
 ],
 "metadata": {
  "kernelspec": {
   "display_name": "Python 3",
   "language": "python",
   "name": "python3"
  },
  "language_info": {
   "codemirror_mode": {
    "name": "ipython",
    "version": 3
   },
   "file_extension": ".py",
   "mimetype": "text/x-python",
   "name": "python",
   "nbconvert_exporter": "python",
   "pygments_lexer": "ipython3",
   "version": "3.6.0"
  }
 },
 "nbformat": 4,
 "nbformat_minor": 2
}
