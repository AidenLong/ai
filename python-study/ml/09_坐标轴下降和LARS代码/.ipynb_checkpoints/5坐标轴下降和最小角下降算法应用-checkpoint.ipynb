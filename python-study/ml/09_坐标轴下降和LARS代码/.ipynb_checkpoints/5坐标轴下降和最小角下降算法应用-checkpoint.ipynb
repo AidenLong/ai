{
 "cells": [
  {
   "cell_type": "code",
   "execution_count": 1,
   "metadata": {
    "collapsed": true
   },
   "outputs": [],
   "source": [
    "from sklearn import datasets,linear_model\n",
    "from sklearn.metrics import mean_squared_error"
   ]
  },
  {
   "cell_type": "code",
   "execution_count": 2,
   "metadata": {
    "collapsed": false
   },
   "outputs": [
    {
     "name": "stdout",
     "output_type": "stream",
     "text": [
      "dict_keys(['data', 'target', 'feature_names', 'DESCR'])\n",
      "506 \n",
      " 13\n"
     ]
    }
   ],
   "source": [
    "#加载数据集合\n",
    "boston =datasets.load_boston()\n",
    "print(boston.keys())\n",
    "n_samples, n_features = boston.data.shape\n",
    "print(n_samples,\"\\n\",n_features)"
   ]
  },
  {
   "cell_type": "code",
   "execution_count": 3,
   "metadata": {
    "collapsed": false
   },
   "outputs": [
    {
     "data": {
      "text/plain": [
       "array(['CRIM', 'ZN', 'INDUS', 'CHAS', 'NOX', 'RM', 'AGE', 'DIS', 'RAD',\n",
       "       'TAX', 'PTRATIO', 'B', 'LSTAT'], \n",
       "      dtype='<U7')"
      ]
     },
     "execution_count": 3,
     "metadata": {},
     "output_type": "execute_result"
    }
   ],
   "source": [
    "boston.feature_names"
   ]
  },
  {
   "cell_type": "code",
   "execution_count": 3,
   "metadata": {
    "collapsed": false
   },
   "outputs": [],
   "source": [
    "#定义自变量和因变量\n",
    "X=boston.data\n",
    "Y=boston.target"
   ]
  },
  {
   "cell_type": "code",
   "execution_count": 4,
   "metadata": {
    "collapsed": false
   },
   "outputs": [
    {
     "name": "stdout",
     "output_type": "stream",
     "text": [
      "截距w0: 36.3444233045 \n",
      " 系数wi： [-0.07391859  0.04944576 -0.          0.         -0.          1.80092396\n",
      "  0.01135702 -0.81333654  0.27206588 -0.01542027 -0.74314538  0.00898036\n",
      " -0.70409988] 正则系数a: 0.724820428377\n",
      "R2: 0.702390310253\n",
      "MSE= 25.1240779162\n",
      "(100,)\n"
     ]
    }
   ],
   "source": [
    "#linear_model.Lasso,lassocCV采用坐标轴下降法coordinate descent:\n",
    "LR=linear_model.LassoCV()\n",
    "LR.fit(X,Y)\n",
    "print(\"截距w0:\",LR.intercept_ ,\"\\n\",\"系数wi：\",LR.coef_,\"正则系数a:\",LR.alpha_)\n",
    "Y_pred=LR.predict(X)\n",
    "print(\"R2:\",LR.score(X,Y))\n",
    "#计算均方差np.mean计算均值，average可以加权重算均值\n",
    "print(\"MSE=\",mean_squared_error(Y,Y_pred))\n",
    "print(LR.alphas_.shape)"
   ]
  },
  {
   "cell_type": "code",
   "execution_count": 5,
   "metadata": {
    "collapsed": false
   },
   "outputs": [
    {
     "name": "stdout",
     "output_type": "stream",
     "text": [
      "截距w0: 24.0955173938 \n",
      " 系数wi： [ -4.38914850e-02   1.78175332e-02  -8.31190692e-03   2.47793820e+00\n",
      "  -1.00469407e+01   4.19591443e+00   0.00000000e+00  -8.73058958e-01\n",
      "   1.07662934e-02   0.00000000e+00  -8.32841633e-01   7.55873580e-03\n",
      "  -5.21459658e-01] 正则系数a: 0.00821211881826\n",
      "R2: 0.723525416044\n",
      "MSE= 23.339861666\n",
      "(12,)\n"
     ]
    }
   ],
   "source": [
    "#lasso另一种实现 lars：\n",
    "LR=linear_model.LassoLarsCV()\n",
    "LR.fit(X,Y)\n",
    "print(\"截距w0:\",LR.intercept_ ,\"\\n\",\"系数wi：\",LR.coef_,\"正则系数a:\",LR.alpha_)\n",
    "Y_pred=LR.predict(X)\n",
    "print(\"R2:\",LR.score(X,Y))\n",
    "#计算均方差np.mean计算均值，average可以加权重算均值\n",
    "print(\"MSE=\",mean_squared_error(Y,Y_pred))\n",
    "print(LR.alphas_.shape)"
   ]
  },
  {
   "cell_type": "code",
   "execution_count": 11,
   "metadata": {
    "collapsed": false
   },
   "outputs": [
    {
     "name": "stdout",
     "output_type": "stream",
     "text": [
      "R2: 0.726914693175\n",
      "MSE: 23.0537403949\n",
      "51\n"
     ]
    }
   ],
   "source": [
    "LR=linear_model.Lasso(alpha=0.01)\n",
    "LR.fit(X,Y)\n",
    "Y_pred=LR.predict(X)\n",
    "print(\"R2:\",LR.score(X,Y))\n",
    "print(\"MSE:\",mean_squared_error(Y,Y_pred))\n",
    "print(LR.n_iter_)\n"
   ]
  },
  {
   "cell_type": "code",
   "execution_count": 12,
   "metadata": {
    "collapsed": false
   },
   "outputs": [
    {
     "name": "stdout",
     "output_type": "stream",
     "text": [
      "R2: 0.582781295829\n",
      "MSE= 35.2214178262\n",
      "3\n"
     ]
    }
   ],
   "source": [
    "LR=linear_model.LassoLars(alpha=0.01)\n",
    "LR.fit(X,Y)\n",
    "Y_pred=LR.predict(X)\n",
    "print(\"R2:\",LR.score(X,Y))\n",
    "print(\"MSE=\",mean_squared_error(Y,Y_pred))\n",
    "print(LR.n_iter_)"
   ]
  },
  {
   "cell_type": "code",
   "execution_count": null,
   "metadata": {
    "collapsed": true
   },
   "outputs": [],
   "source": []
  }
 ],
 "metadata": {
  "kernelspec": {
   "display_name": "Python 3",
   "language": "python",
   "name": "python3"
  },
  "language_info": {
   "codemirror_mode": {
    "name": "ipython",
    "version": 3
   },
   "file_extension": ".py",
   "mimetype": "text/x-python",
   "name": "python",
   "nbconvert_exporter": "python",
   "pygments_lexer": "ipython3",
   "version": "3.6.0"
  }
 },
 "nbformat": 4,
 "nbformat_minor": 2
}
