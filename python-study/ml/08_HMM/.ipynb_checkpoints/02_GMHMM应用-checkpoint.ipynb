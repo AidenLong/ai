{
 "cells": [
  {
   "cell_type": "code",
   "execution_count": 1,
   "metadata": {
    "collapsed": true
   },
   "outputs": [],
   "source": [
    "import numpy as np\n",
    "from hmmlearn import hmm\n",
    "import matplotlib.pyplot as plt\n",
    "import matplotlib as mpl\n",
    "from mpl_toolkits.mplot3d import Axes3D\n",
    "from matplotlib import cm\n",
    "from sklearn.metrics.pairwise import pairwise_distances_argmin\n",
    "import warnings"
   ]
  },
  {
   "cell_type": "code",
   "execution_count": 2,
   "metadata": {
    "collapsed": true
   },
   "outputs": [],
   "source": [
    "# 设置在jupyter中matplotlib的显示情况（默认inline是内嵌显示，通过设置为tk表示不内嵌显示）\n",
    "# %matplotlib tk"
   ]
  },
  {
   "cell_type": "code",
   "execution_count": 3,
   "metadata": {
    "collapsed": true
   },
   "outputs": [],
   "source": [
    "def expand(a, b):\n",
    "    return 1.05*a-0.05*b, 1.05*b-0.05*a"
   ]
  },
  {
   "cell_type": "code",
   "execution_count": 10,
   "metadata": {},
   "outputs": [],
   "source": [
    "warnings.filterwarnings(\"ignore\")   # hmmlearn(0.2.0) < sklearn(0.18)\n",
    "np.random.seed(28)\n",
    "n = 5   # 隐状态数目\n",
    "n_samples = 500 # 样本数量"
   ]
  },
  {
   "cell_type": "code",
   "execution_count": 11,
   "metadata": {},
   "outputs": [
    {
     "name": "stdout",
     "output_type": "stream",
     "text": [
      "初始概率：\n",
      "[0.28102534 0.21635059 0.04817319 0.1532667  0.30118418]\n"
     ]
    }
   ],
   "source": [
    "pi = np.random.rand(n)\n",
    "pi /= pi.sum()\n",
    "print('初始概率：')\n",
    "print(pi)"
   ]
  },
  {
   "cell_type": "code",
   "execution_count": 12,
   "metadata": {},
   "outputs": [
    {
     "name": "stdout",
     "output_type": "stream",
     "text": [
      "转移概率:\n",
      "[[0.2202672  0.         0.36791287 0.41181993 0.        ]\n",
      " [0.         0.4995834  0.         0.01356202 0.48685458]\n",
      " [0.57655791 0.         0.10400763 0.         0.31943446]\n",
      " [0.23695178 0.33043766 0.         0.43261056 0.        ]\n",
      " [0.         0.58044648 0.15883558 0.         0.26071794]]\n"
     ]
    }
   ],
   "source": [
    "A = np.random.rand(n, n)\n",
    "mask = np.zeros((n, n), dtype=np.bool)\n",
    "mask[0][1] = mask[0][4] = True\n",
    "mask[1][0] = mask[1][2] = True\n",
    "mask[2][1] = mask[2][3] = True\n",
    "mask[3][2] = mask[3][4] = True\n",
    "mask[4][0] = mask[4][3] = True\n",
    "A[mask] = 0\n",
    "for i in range(n):\n",
    "    A[i] /= A[i].sum()\n",
    "print('转移概率:')\n",
    "print(A)\n"
   ]
  },
  {
   "cell_type": "code",
   "execution_count": 14,
   "metadata": {},
   "outputs": [
    {
     "name": "stdout",
     "output_type": "stream",
     "text": [
      "均值：\n",
      "[[ 0.57735027  0.57735027  0.57735027]\n",
      " [ 0.          0.92847669  0.37139068]\n",
      " [-0.62017367  0.74420841  0.24806947]\n",
      " [-0.51449576  0.          0.85749293]\n",
      " [ 0.35112344  0.          0.93632918]]\n"
     ]
    }
   ],
   "source": [
    "# 给定均值\n",
    "means = np.array(((30, 30, 30), (0, 50, 20), (-25, 30, 10), (-15, 0, 25), (15, 0, 40)), dtype=np.float)\n",
    "for i in range(n):\n",
    "    means[i,:] /= np.sqrt(np.sum(means ** 2, axis=1))[i]\n",
    "print('均值：')\n",
    "print(means)"
   ]
  },
  {
   "cell_type": "code",
   "execution_count": 15,
   "metadata": {},
   "outputs": [
    {
     "name": "stdout",
     "output_type": "stream",
     "text": [
      "方差：\n",
      "\n",
      "[[[0.0155071  0.         0.        ]\n",
      "  [0.         0.02010293 0.        ]\n",
      "  [0.         0.         0.00246192]]\n",
      "\n",
      " [[0.00994326 0.         0.        ]\n",
      "  [0.         0.01782236 0.        ]\n",
      "  [0.         0.         0.00391079]]\n",
      "\n",
      " [[0.01630543 0.         0.        ]\n",
      "  [0.         0.0166357  0.        ]\n",
      "  [0.         0.         0.01450157]]\n",
      "\n",
      " [[0.00363404 0.         0.        ]\n",
      "  [0.         0.00178606 0.        ]\n",
      "  [0.         0.         0.01412046]]\n",
      "\n",
      " [[0.00602365 0.         0.        ]\n",
      "  [0.         0.02076837 0.        ]\n",
      "  [0.         0.         0.01166766]]]\n"
     ]
    }
   ],
   "source": [
    "# 给定方差\n",
    "covars = np.empty((n, 3, 3))\n",
    "for i in range(n):\n",
    "    covars[i] = np.diag(np.random.rand(3)*0.02+0.001)    # np.random.rand ∈[0,1)\n",
    "print('方差：\\n')\n",
    "print(covars)"
   ]
  },
  {
   "cell_type": "code",
   "execution_count": 16,
   "metadata": {
    "collapsed": true
   },
   "outputs": [],
   "source": [
    "# 产生对应的模拟数据\n",
    "model = hmm.GaussianHMM(n_components=n, covariance_type='full')\n",
    "model.startprob_ = pi\n",
    "model.transmat_ = A\n",
    "model.means_ = means\n",
    "model.covars_ = covars\n",
    "sample, labels = model.sample(n_samples=n_samples, random_state=0)"
   ]
  },
  {
   "cell_type": "code",
   "execution_count": 17,
   "metadata": {},
   "outputs": [
    {
     "name": "stdout",
     "output_type": "stream",
     "text": [
      "##估计初始概率：\n",
      "[0. 0. 1. 0. 0.]\n",
      "##估计转移概率：\n",
      "[[0.53070316 0.45175293 0.01754391 0.         0.        ]\n",
      " [0.61038568 0.22727273 0.         0.1623416  0.        ]\n",
      " [0.31707317 0.         0.48780488 0.         0.19512195]\n",
      " [0.         0.39535736 0.         0.11627743 0.4883652 ]\n",
      " [0.         0.         0.48484849 0.39393938 0.12121212]]\n",
      "##估计均值：\n",
      "\n",
      "[[-0.00362757  0.93034042  0.36874654]\n",
      " [ 0.35006963 -0.01159797  0.93881759]\n",
      " [-0.5168573  -0.00019271  0.86016136]\n",
      " [-0.66623465  0.7378241   0.23065319]\n",
      " [ 0.55697452  0.54695012  0.59564912]]\n",
      "##估计方差：\n",
      "\n",
      "[[[ 0.00893021  0.00003974 -0.00014644]\n",
      "  [ 0.00003974  0.0153415   0.00006489]\n",
      "  [-0.00014644  0.00006489  0.00324948]]\n",
      "\n",
      " [[ 0.00592441 -0.00009119 -0.00065218]\n",
      "  [-0.00009119  0.01985343  0.00123313]\n",
      "  [-0.00065218  0.00123313  0.01309222]]\n",
      "\n",
      " [[ 0.00341816  0.00062871 -0.00170213]\n",
      "  [ 0.00062871  0.00214312  0.00027713]\n",
      "  [-0.00170213  0.00027713  0.01381222]]\n",
      "\n",
      " [[ 0.0167386  -0.00113745 -0.00107337]\n",
      "  [-0.00113745  0.01853764 -0.00160797]\n",
      "  [-0.00107337 -0.00160797  0.01143863]]\n",
      "\n",
      " [[ 0.01625935 -0.0011342  -0.00015453]\n",
      "  [-0.0011342   0.01476079 -0.00121909]\n",
      "  [-0.00015453 -0.00121909  0.00221389]]]\n"
     ]
    }
   ],
   "source": [
    "# 模型构建及估计参数\n",
    "model = hmm.GaussianHMM(n_components=n, covariance_type='full', n_iter=10)\n",
    "model.fit(sample)\n",
    "y = model.predict(sample)\n",
    "np.set_printoptions(suppress=True)\n",
    "print('##估计初始概率：')\n",
    "print(model.startprob_)\n",
    "print('##估计转移概率：')\n",
    "print(model.transmat_)\n",
    "print('##估计均值：\\n')\n",
    "print(model.means_)\n",
    "print('##估计方差：\\n')\n",
    "print(model.covars_)"
   ]
  },
  {
   "cell_type": "code",
   "execution_count": 18,
   "metadata": {},
   "outputs": [
    {
     "name": "stdout",
     "output_type": "stream",
     "text": [
      "[4 0 3 2 1]\n",
      "估计初始概率：\n",
      "[0. 0. 0. 1. 0.]\n",
      "估计转移概率：\n",
      "[[0.12121212 0.         0.39393938 0.48484849 0.        ]\n",
      " [0.         0.53070316 0.         0.01754391 0.45175293]\n",
      " [0.4883652  0.         0.11627743 0.         0.39535736]\n",
      " [0.19512195 0.31707317 0.         0.48780488 0.        ]\n",
      " [0.         0.61038568 0.1623416  0.         0.22727273]]\n",
      "估计均值：\n",
      "[[ 0.55697452  0.54695012  0.59564912]\n",
      " [-0.00362757  0.93034042  0.36874654]\n",
      " [-0.66623465  0.7378241   0.23065319]\n",
      " [-0.5168573  -0.00019271  0.86016136]\n",
      " [ 0.35006963 -0.01159797  0.93881759]]\n",
      "估计方差：\n",
      "[[[ 0.01625935 -0.0011342  -0.00015453]\n",
      "  [-0.0011342   0.01476079 -0.00121909]\n",
      "  [-0.00015453 -0.00121909  0.00221389]]\n",
      "\n",
      " [[ 0.00893021  0.00003974 -0.00014644]\n",
      "  [ 0.00003974  0.0153415   0.00006489]\n",
      "  [-0.00014644  0.00006489  0.00324948]]\n",
      "\n",
      " [[ 0.0167386  -0.00113745 -0.00107337]\n",
      "  [-0.00113745  0.01853764 -0.00160797]\n",
      "  [-0.00107337 -0.00160797  0.01143863]]\n",
      "\n",
      " [[ 0.00341816  0.00062871 -0.00170213]\n",
      "  [ 0.00062871  0.00214312  0.00027713]\n",
      "  [-0.00170213  0.00027713  0.01381222]]\n",
      "\n",
      " [[ 0.00592441 -0.00009119 -0.00065218]\n",
      "  [-0.00009119  0.01985343  0.00123313]\n",
      "  [-0.00065218  0.00123313  0.01309222]]]\n",
      "[3 3 3 3 3 3 1 4 4 1 1 1 4 1 1 4 1 4 1 4 1 4 2 4 4 2 4 1 4 2 2 4 1 4 1 4 1\n",
      " 1 4 1 1 4 1 4 1 4 1 1 4 2 4 1 4 2 0 2 4 4 2 0 2 0 0 2 0 3 0 2 0 2 2 4 1 1\n",
      " 4 2 4 1 4 1 1 4 1 1 1 1 4 2 0 3 3 0 2 0 3 3 0 3 3 1 1 1 1 4 1 1 1 1 4 2 0\n",
      " 2 0 0 2 4 1 1 4 4 2 0 2 2 2 0 3 3 1 1 1 1 1 1 1 4 1 4 1 4 1 1 4 1 4 4 1 4\n",
      " 1 4 1 1 4 1 4 4 4 1 4 1 1 4 1 4 1 1 4 2 0 2 4 1 4 4 4 1 1 1 4 4 1 4 4 1 1\n",
      " 4 1 1 1 4 1 1 1 4 1 4 4 1 4 1 1 1 1 4 1 1 1 4 4 1 1 1 1 4 4 1 1 1 1 4 1 1\n",
      " 1 4 4 1 1 1 4 2 2 4 1 3 0 3 0 3 3 3 3 1 4 4 1 4 1 3 3 3 0 0 3 1 4 1 4 1 4\n",
      " 4 4 4 1 4 4 4 4 1 4 1 4 1 4 1 1 1 4 1 4 4 1 1 3 1 1 1 4 1 1 1 1 4 4 2 4 1\n",
      " 4 4 1 4 1 4 1 4 1 1 4 1 4 4 1 4 2 0 3 3 0 3 1 1 1 4 2 0 2 4 2 0 3 3 3 3 3\n",
      " 1 4 1 4 1 1 1 1 1 1 1 1 4 1 1 1 4 4 1 1 4 1 1 4 1 1 1 1 1 4 1 1 4 1 4 4 4\n",
      " 1 1 1 1 4 1 1 4 1 4 1 1 1 4 2 0 3 1 1 1 1 1 1 4 2 4 1 4 1 1 1 1 1 1 1 1 4\n",
      " 1 1 1 1 1 4 4 4 2 4 1 4 1 1 1 1 1 1 1 1 4 1 4 1 1 1 4 2 0 3 1 1 1 4 1 1 1\n",
      " 4 2 4 4 1 4 2 0 3 3 1 1 4 4 4 4 2 0 2 0 2 4 1 1 1 4 2 0 3 1 4 1 3 0 0 3 1\n",
      " 1 1 4 1 1 4 1 1 1 1 4 2 4 1 4 1 4 1 4]\n",
      "[3 3 3 3 3 3 1 4 4 1 1 1 4 1 1 4 1 4 1 4 1 4 2 4 4 2 4 1 4 2 2 4 1 4 1 4 1\n",
      " 1 4 1 1 4 1 4 1 4 1 1 4 2 4 1 4 2 0 2 4 4 2 0 2 0 0 2 0 3 0 2 0 2 2 4 1 1\n",
      " 4 2 4 1 4 1 1 4 1 1 1 1 4 2 0 3 3 0 2 0 3 3 0 3 3 1 1 1 1 4 1 1 1 1 4 2 0\n",
      " 2 0 0 2 4 1 1 4 4 2 0 2 2 2 0 3 3 1 1 1 1 1 1 1 4 1 4 1 4 1 1 4 1 4 4 1 4\n",
      " 1 4 1 1 4 1 4 4 4 1 4 1 1 4 1 4 1 1 4 2 0 2 4 1 4 4 4 1 1 1 4 4 1 4 4 1 1\n",
      " 4 1 1 1 4 1 1 1 4 1 4 4 1 4 1 1 1 1 4 1 1 1 4 4 1 1 1 1 4 4 1 1 1 1 4 1 1\n",
      " 1 4 4 1 1 1 4 2 2 4 1 3 0 3 0 3 3 3 3 1 4 4 1 4 1 3 3 3 0 0 3 1 4 1 4 1 4\n",
      " 4 4 4 1 4 4 4 4 1 4 1 4 1 4 1 1 1 4 1 4 4 1 1 3 1 1 1 4 1 1 1 1 4 4 2 4 1\n",
      " 4 4 1 4 1 4 1 4 1 1 4 1 4 4 1 4 2 0 3 3 0 3 1 1 1 4 2 0 2 4 2 0 3 3 3 3 3\n",
      " 1 4 1 4 1 1 1 1 1 1 1 1 4 1 1 1 4 4 1 1 4 1 1 4 1 1 1 1 1 4 1 1 4 1 4 4 4\n",
      " 1 1 1 1 4 1 1 4 1 4 1 1 1 4 2 0 3 1 1 1 1 1 1 4 2 4 1 4 1 1 1 1 1 1 1 1 4\n",
      " 1 1 1 1 1 4 4 4 2 4 1 4 1 1 1 1 1 1 1 1 4 1 4 1 1 1 4 2 0 3 1 1 1 4 1 1 1\n",
      " 4 2 4 4 1 4 2 0 3 3 1 1 4 4 4 4 2 0 2 0 2 4 1 1 1 4 2 0 3 1 4 1 3 0 0 3 1\n",
      " 1 1 4 1 1 4 1 1 1 1 4 2 4 1 4 1 4 1 4]\n",
      "准确率：100.00%\n"
     ]
    }
   ],
   "source": [
    "# 根据类别信息更改顺序\n",
    "order = pairwise_distances_argmin(means, model.means_, metric='euclidean')\n",
    "print(order)\n",
    "pi_hat = model.startprob_[order]\n",
    "A_hat = model.transmat_[order]\n",
    "A_hat = A_hat[:, order]\n",
    "means_hat = model.means_[order]\n",
    "covars_hat = model.covars_[order]\n",
    "change = np.empty((n, n_samples), dtype=np.bool)\n",
    "for i in range(n):\n",
    "    change[i] = y == order[i]\n",
    "for i in range(n):\n",
    "    y[change[i]] = i\n",
    "print('估计初始概率：')\n",
    "print(pi_hat)\n",
    "print('估计转移概率：')\n",
    "print(A_hat)\n",
    "print('估计均值：')\n",
    "print(means_hat)\n",
    "print('估计方差：')\n",
    "print(covars_hat)\n",
    "print(labels)\n",
    "print(y)\n",
    "acc = np.mean(labels == y) * 100\n",
    "print('准确率：%.2f%%' % acc)\n"
   ]
  },
  {
   "cell_type": "code",
   "execution_count": 19,
   "metadata": {},
   "outputs": [],
   "source": [
    "# 画图\n",
    "mpl.rcParams['font.sans-serif'] = [u'SimHei']\n",
    "mpl.rcParams['axes.unicode_minus'] = False\n",
    "fig = plt.figure(figsize=(8, 8), facecolor='w')\n",
    "ax = fig.add_subplot(111, projection='3d')\n",
    "colors = plt.cm.Spectral(np.linspace(0,1,n))\n",
    "ax.scatter(sample[:, 0], sample[:, 1], sample[:, 2], s=50, c=labels, cmap=plt.cm.Spectral, marker='o', label=u'观测值', depthshade=True)\n",
    "plt.plot(sample[:, 0], sample[:, 1], sample[:, 2], lw=0.1, color='#A07070')\n",
    "colors = plt.cm.Spectral(np.linspace(0, 1, n))\n",
    "ax.scatter(means[:, 0], means[:, 1], means[:, 2], s=300, c=colors, edgecolor='r', linewidths=1, marker='*', label=u'中心')\n",
    "\n",
    "x_min, y_min, z_min = sample.min(axis=0)\n",
    "x_max, y_max, z_max = sample.max(axis=0)\n",
    "x_min, x_max = expand(x_min, x_max)\n",
    "y_min, y_max = expand(y_min, y_max)\n",
    "z_min, z_max = expand(z_min, z_max)\n",
    "ax.set_xlim((x_min, x_max))\n",
    "ax.set_ylim((y_min, y_max))\n",
    "ax.set_zlim((z_min, z_max))\n",
    "plt.legend(loc='upper left')\n",
    "plt.grid(True)\n",
    "plt.tight_layout(1)\n",
    "plt.title(u'GMHMM参数估计和类别判定', fontsize=18)\n",
    "plt.show()"
   ]
  },
  {
   "cell_type": "code",
   "execution_count": null,
   "metadata": {
    "collapsed": true
   },
   "outputs": [],
   "source": []
  }
 ],
 "metadata": {
  "kernelspec": {
   "display_name": "Python 3",
   "language": "python",
   "name": "python3"
  },
  "language_info": {
   "codemirror_mode": {
    "name": "ipython",
    "version": 3
   },
   "file_extension": ".py",
   "mimetype": "text/x-python",
   "name": "python",
   "nbconvert_exporter": "python",
   "pygments_lexer": "ipython3",
   "version": "3.7.1"
  }
 },
 "nbformat": 4,
 "nbformat_minor": 2
}
