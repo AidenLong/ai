{
 "cells": [
  {
   "cell_type": "markdown",
   "metadata": {},
   "source": [
    "# hmmlearn框架说明\n",
    "\n",
    "hmmlearn中主要有两种模型，分布为：GaussianHMM和MultinomialHMM；如果观测值是连续的，那么建议使用GaussianHMM，否则使用MultinomialHMM；参数：初始的隐藏状态概率π参数为: startprob_；状态转移矩阵A参数为: transmat_; 状态和观测值之间的转移矩阵B参数为: emissionprob_(MultinomialHMM模型中)或者在GaussianHMM模型中直接给定均值(means)和方差/协方差矩阵(covars)。"
   ]
  },
  {
   "cell_type": "code",
   "execution_count": 13,
   "metadata": {},
   "outputs": [
    {
     "name": "stdout",
     "output_type": "stream",
     "text": [
      "颜色:白球 黑球 白球 白球 黑球\n",
      "盒子:盒子2 盒子3 盒子2 盒子2 盒子3\n",
      "概率值:0.002304\n"
     ]
    }
   ],
   "source": [
    "## MultinomialHMM案例\n",
    "import numpy as np\n",
    "import hmmlearn.hmm as hmm\n",
    "\n",
    "\n",
    "# 定义变量\n",
    "states = ['盒子1', '盒子2', '盒子3']\n",
    "obs = ['白球', '黑球']\n",
    "n_states = len(states)\n",
    "m_obs = len(obs)\n",
    "start_probability = np.array([0.2, 0.5, 0.3])\n",
    "transition_probability = np.array([\n",
    "    [0.5, 0.4, 0.1],\n",
    "    [0.2, 0.2, 0.6],\n",
    "    [0.2, 0.5, 0.3]\n",
    "])\n",
    "emission_probalitity = np.array([\n",
    "    [0.4, 0.6],\n",
    "    [0.8, 0.2],\n",
    "    [0.5, 0.5]\n",
    "])\n",
    "\n",
    "# 定义模型\n",
    "model = hmm.MultinomialHMM(n_components=n_states)\n",
    "model.startprob_ = start_probability\n",
    "model.transmat_ = transition_probability\n",
    "model.emissionprob_ = emission_probalitity\n",
    "\n",
    "\n",
    "# 运行viterbi预测的问题\n",
    "se = np.array([[0, 1, 0, 0, 1]]).T\n",
    "logprod, box_index = model.decode(se, algorithm='viterbi')\n",
    "print(\"颜色:\", end=\"\")\n",
    "print(\" \".join(map(lambda t: obs[t], [0, 1, 0, 0, 1])))\n",
    "print(\"盒子:\", end=\"\")\n",
    "print(\" \".join(map(lambda t: states[t], box_index)))\n",
    "print(\"概率值:\", end=\"\")\n",
    "print(np.exp(logprod)) # 这个是因为在hmmlearn底层将概率进行了对数化，防止出现乘积为0的情况"
   ]
  },
  {
   "cell_type": "code",
   "execution_count": 15,
   "metadata": {},
   "outputs": [
    {
     "name": "stdout",
     "output_type": "stream",
     "text": [
      "[4.14348565e-17 9.99998199e-01 1.80098383e-06]\n",
      "[[0.10608908 0.47351277 0.42039815]\n",
      " [0.54686718 0.22939266 0.22374015]\n",
      " [0.2254564  0.45309725 0.32144635]]\n",
      "[[0.0857048  0.9142952 ]\n",
      " [0.93654074 0.06345926]\n",
      " [0.53485929 0.46514071]]\n",
      "各个序列的概率:\n",
      "1.0370862484757094e-07\n"
     ]
    }
   ],
   "source": [
    "# 使用MultinomialHMM进行参数的训练\n",
    "import numpy as np\n",
    "import hmmlearn.hmm as hmm\n",
    "\n",
    "\n",
    "# 定义变量\n",
    "states = ['盒子1', '盒子2', '盒子3']\n",
    "obs = ['白球', '黑球']\n",
    "n_states = len(states)\n",
    "m_obs = len(obs)\n",
    "\n",
    "model2 = hmm.MultinomialHMM(n_components=n_states, n_iter=20, tol=0.001)\n",
    "X2 = np.array([\n",
    "    [0, 1, 0, 0, 1],\n",
    "    [0, 0, 0, 1, 1],\n",
    "    [1, 1, 0, 1, 0],\n",
    "    [0, 1, 0, 1, 1],\n",
    "    [0, 0, 0, 1, 0]\n",
    "])\n",
    "model2.fit(X2)\n",
    "print(\"输出根据数据训练出来的π\")\n",
    "print(model2.startprob_)\n",
    "print(\"输出根据数据训练出来的A\")\n",
    "print(model2.transmat_)\n",
    "print(\"输出根据数据训练出来的B\")\n",
    "print(model2.emissionprob_)\n",
    "print(\"各个序列的概率:\")\n",
    "print(np.exp(model2.score(X2)))"
   ]
  },
  {
   "cell_type": "code",
   "execution_count": null,
   "metadata": {
    "collapsed": true
   },
   "outputs": [],
   "source": []
  }
 ],
 "metadata": {
  "kernelspec": {
   "display_name": "Python 3",
   "language": "python",
   "name": "python3"
  },
  "language_info": {
   "codemirror_mode": {
    "name": "ipython",
    "version": 3
   },
   "file_extension": ".py",
   "mimetype": "text/x-python",
   "name": "python",
   "nbconvert_exporter": "python",
   "pygments_lexer": "ipython3",
   "version": "3.7.1"
  }
 },
 "nbformat": 4,
 "nbformat_minor": 2
}
